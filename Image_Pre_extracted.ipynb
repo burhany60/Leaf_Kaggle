{
 "cells": [
  {
   "cell_type": "code",
   "execution_count": 1,
   "metadata": {
    "collapsed": false
   },
   "outputs": [
    {
     "name": "stderr",
     "output_type": "stream",
     "text": [
      "Using TensorFlow backend.\n"
     ]
    }
   ],
   "source": [
    "from keras.layers import Input, Convolution2D, Dense, Activation, Flatten,merge\n",
    "from keras.layers import  MaxPooling2D, Dropout, LocallyConnected2D\n",
    "from keras.models import Model, load_model\n",
    "from keras.optimizers import SGD\n",
    "from lib.data_wrappers import load_train_data,load_test_data\n",
    "import numpy as np\n",
    "import pandas as pd"
   ]
  },
  {
   "cell_type": "code",
   "execution_count": 2,
   "metadata": {
    "collapsed": false
   },
   "outputs": [],
   "source": [
    "train,validation = load_train_data('train.csv')"
   ]
  },
  {
   "cell_type": "code",
   "execution_count": 3,
   "metadata": {
    "collapsed": false
   },
   "outputs": [],
   "source": [
    "test = load_test_data('test.csv')"
   ]
  },
  {
   "cell_type": "code",
   "execution_count": 4,
   "metadata": {
    "collapsed": false
   },
   "outputs": [
    {
     "data": {
      "text/plain": [
       "(64, 64, 1)"
      ]
     },
     "execution_count": 4,
     "metadata": {},
     "output_type": "execute_result"
    }
   ],
   "source": [
    "test[2][1].shape"
   ]
  },
  {
   "cell_type": "code",
   "execution_count": 5,
   "metadata": {
    "collapsed": false
   },
   "outputs": [],
   "source": [
    "train_labels = train[2][:]\n",
    "valid_labels = validation[2][:]"
   ]
  },
  {
   "cell_type": "code",
   "execution_count": 6,
   "metadata": {
    "collapsed": false
   },
   "outputs": [],
   "source": [
    "def reformat(labels):\n",
    "    labels = (np.arange(99) == labels[:,None]).astype(np.float32)\n",
    "    return labels\n",
    "train_labels = reformat(train_labels)\n",
    "valid_labels = reformat(valid_labels)\n"
   ]
  },
  {
   "cell_type": "code",
   "execution_count": 7,
   "metadata": {
    "collapsed": true
   },
   "outputs": [],
   "source": [
    "input_layer = Input(shape=(64,64,1))"
   ]
  },
  {
   "cell_type": "raw",
   "metadata": {},
   "source": [
    "#first\n",
    "pipe = Convolution2D(8, 5, 5, border_mode='same')(input_layer)\n",
    "pipe = (Activation('relu'))(pipe)\n",
    "pipe = (MaxPooling2D(pool_size=(2, 2), strides=(2, 2)))(pipe)\n",
    "\n",
    "#second \n",
    "pipe = (Convolution2D(32, 5, 5, border_mode='same'))(pipe)\n",
    "pipe = (Activation('relu'))(pipe)\n",
    "pipe = (MaxPooling2D(pool_size=(2, 2), strides=(2, 2)))(pipe)\n",
    "\n",
    "#flatten\n",
    "pipe= Flatten()(pipe)\n",
    "\n",
    "#fully connected layer\n",
    "pipe = Dense(100, activation='relu')(pipe)\n",
    "pipe = Dropout(.5)(pipe)\n",
    "\n",
    "#output layer\n",
    "output_layer = Dense(99, activation='softmax')(pipe)"
   ]
  },
  {
   "cell_type": "code",
   "execution_count": 120,
   "metadata": {
    "collapsed": true
   },
   "outputs": [],
   "source": [
    "#current best, log-loss 0.02312 on leader board\n",
    "#first\n",
    "pipe = Convolution2D(8, 3, 3, border_mode='same',W_regularizer='l1')(input_layer)\n",
    "pipe = (Activation('relu'))(pipe)\n",
    "pipe = (MaxPooling2D(pool_size=(2, 2), strides=(2, 2)))(pipe)\n",
    "\n",
    "#second \n",
    "pipe = (Convolution2D(16, 3, 3, border_mode='same',W_regularizer='l1'))(pipe)\n",
    "pipe = (Activation('relu'))(pipe)\n",
    "pipe = (MaxPooling2D(pool_size=(2, 2), strides=(2, 2)))(pipe)\n",
    "\n",
    "\n",
    "#flatten\n",
    "pipe= Flatten()(pipe)\n",
    "\n",
    "# Define the pre-extracted feature input\n",
    "num = Input(shape=(192,), name='num')\n",
    "# Concatenate the output of our convnet with our pre-extracted feature input\n",
    "combined = merge([pipe, num], mode='concat')\n",
    "\n",
    "#fully connected layer\n",
    "combined = Dense(100, activation='relu')(combined)\n",
    "combined = Dropout(.5)(combined)\n",
    "\n",
    "#output layer\n",
    "output_layer = Dense(99, activation='softmax')(combined)"
   ]
  },
  {
   "cell_type": "raw",
   "metadata": {},
   "source": [
    "#first convolutional Layer\n",
    "pipe = Convolution2D(8, 5, 5, border_mode='same')(input_layer)\n",
    "pipe = (Activation('relu'))(pipe)\n",
    "pipe = (MaxPooling2D(pool_size=(2, 2), strides=(2, 2)))(pipe)\n",
    "\n",
    "#second\n",
    "pipe = (Convolution2D(16, 5, 5, border_mode='same'))(pipe)\n",
    "pipe = (Activation('relu'))(pipe)\n",
    "pipe = (MaxPooling2D(pool_size=(2, 2), strides=(2, 2)))(pipe)\n",
    "\n",
    "\n",
    "#third\n",
    "pipe = (Convolution2D(32, 5, 5, border_mode='same'))(pipe)\n",
    "pipe = (Activation('relu'))(pipe)\n",
    "pipe = (MaxPooling2D(pool_size=(2, 2), strides=(2, 2)))(pipe)\n",
    "\n",
    "#fourth\n",
    "pipe = (Convolution2D(64, 5, 5, border_mode='same'))(pipe)\n",
    "pipe = (Activation('relu'))(pipe)\n",
    "pipe = (MaxPooling2D(pool_size=(2, 2), strides=(2, 2)))(pipe)\n",
    "\n",
    "#fifth \n",
    "pipe = (Convolution2D(128, 5, 5, border_mode='same'))(pipe)\n",
    "pipe = (Activation('relu'))(pipe)\n",
    "pipe = (MaxPooling2D(pool_size=(2, 2), strides=(2, 2)))(pipe)\n",
    "\n",
    "pipe = Dropout(.5)(pipe)\n",
    "\n",
    "\n",
    "#Flatten\n",
    "convolution_output = Flatten()(pipe)\n",
    "#convolution_output = Dense(100, activation='relu')(convolution_output)\n",
    "#convolution_output= Dropout(.5)(convolution_output)\n",
    "\n",
    "output_layer = [Dense(99,activation='softmax')(convolution_output)]"
   ]
  },
  {
   "cell_type": "code",
   "execution_count": 121,
   "metadata": {
    "collapsed": true
   },
   "outputs": [],
   "source": [
    "sgd = SGD(lr=0.008, momentum=0.9,decay=0.0,nesterov=False)"
   ]
  },
  {
   "cell_type": "code",
   "execution_count": 122,
   "metadata": {
    "collapsed": true
   },
   "outputs": [],
   "source": [
    "# for image + numerical data\n",
    "model = Model(input=[input_layer,num],output=output_layer)"
   ]
  },
  {
   "cell_type": "raw",
   "metadata": {},
   "source": [
    "# for just image data\n",
    "model = Model(input=input_layer,output=output_layer)"
   ]
  },
  {
   "cell_type": "code",
   "execution_count": 124,
   "metadata": {
    "collapsed": false
   },
   "outputs": [],
   "source": [
    "model.compile(optimizer='Adam',loss='categorical_crossentropy',\n",
    "              metrics=['accuracy'])"
   ]
  },
  {
   "cell_type": "code",
   "execution_count": 126,
   "metadata": {
    "collapsed": false
   },
   "outputs": [
    {
     "name": "stdout",
     "output_type": "stream",
     "text": [
      "Train on 792 samples, validate on 99 samples\n",
      "Epoch 1/100\n",
      "792/792 [==============================] - 0s - loss: 0.0720 - acc: 0.9987 - val_loss: 0.0624 - val_acc: 1.0000\n",
      "Epoch 2/100\n",
      "792/792 [==============================] - 0s - loss: 0.0752 - acc: 0.9937 - val_loss: 0.0642 - val_acc: 1.0000\n",
      "Epoch 3/100\n",
      "792/792 [==============================] - 0s - loss: 0.0841 - acc: 0.9937 - val_loss: 0.0633 - val_acc: 1.0000\n",
      "Epoch 4/100\n",
      "792/792 [==============================] - 0s - loss: 0.0851 - acc: 0.9912 - val_loss: 0.0640 - val_acc: 1.0000\n",
      "Epoch 5/100\n",
      "792/792 [==============================] - 0s - loss: 0.0740 - acc: 0.9987 - val_loss: 0.0637 - val_acc: 1.0000\n",
      "Epoch 6/100\n",
      "792/792 [==============================] - 0s - loss: 0.0794 - acc: 0.9975 - val_loss: 0.0678 - val_acc: 1.0000\n",
      "Epoch 7/100\n",
      "792/792 [==============================] - 0s - loss: 0.0762 - acc: 0.9962 - val_loss: 0.0687 - val_acc: 1.0000\n",
      "Epoch 8/100\n",
      "792/792 [==============================] - 1s - loss: 0.0747 - acc: 0.9949 - val_loss: 0.0662 - val_acc: 1.0000\n",
      "Epoch 9/100\n",
      "792/792 [==============================] - 1s - loss: 0.0712 - acc: 0.9962 - val_loss: 0.0646 - val_acc: 1.0000\n",
      "Epoch 10/100\n",
      "792/792 [==============================] - 0s - loss: 0.0715 - acc: 0.9975 - val_loss: 0.0625 - val_acc: 1.0000\n",
      "Epoch 11/100\n",
      "792/792 [==============================] - 0s - loss: 0.0693 - acc: 0.9962 - val_loss: 0.0643 - val_acc: 1.0000\n",
      "Epoch 12/100\n",
      "792/792 [==============================] - 0s - loss: 0.0692 - acc: 0.9962 - val_loss: 0.0597 - val_acc: 1.0000\n",
      "Epoch 13/100\n",
      "792/792 [==============================] - 0s - loss: 0.0710 - acc: 0.9962 - val_loss: 0.0601 - val_acc: 1.0000\n",
      "Epoch 14/100\n",
      "792/792 [==============================] - 1s - loss: 0.0682 - acc: 0.9975 - val_loss: 0.0578 - val_acc: 1.0000\n",
      "Epoch 15/100\n",
      "792/792 [==============================] - 1s - loss: 0.0680 - acc: 0.9987 - val_loss: 0.0575 - val_acc: 1.0000\n",
      "Epoch 16/100\n",
      "792/792 [==============================] - 1s - loss: 0.0676 - acc: 0.9975 - val_loss: 0.0583 - val_acc: 1.0000\n",
      "Epoch 17/100\n",
      "792/792 [==============================] - 1s - loss: 0.0745 - acc: 0.9962 - val_loss: 0.0572 - val_acc: 1.0000\n",
      "Epoch 18/100\n",
      "792/792 [==============================] - 1s - loss: 0.0648 - acc: 0.9975 - val_loss: 0.0566 - val_acc: 1.0000\n",
      "Epoch 19/100\n",
      "792/792 [==============================] - 1s - loss: 0.0628 - acc: 0.9975 - val_loss: 0.0556 - val_acc: 1.0000\n",
      "Epoch 20/100\n",
      "792/792 [==============================] - 1s - loss: 0.0614 - acc: 1.0000 - val_loss: 0.0566 - val_acc: 1.0000\n",
      "Epoch 21/100\n",
      "792/792 [==============================] - 1s - loss: 0.0629 - acc: 0.9987 - val_loss: 0.0556 - val_acc: 1.0000\n",
      "Epoch 22/100\n",
      "792/792 [==============================] - 1s - loss: 0.0673 - acc: 0.9975 - val_loss: 0.0552 - val_acc: 1.0000\n",
      "Epoch 23/100\n",
      "792/792 [==============================] - 1s - loss: 0.0693 - acc: 0.9962 - val_loss: 0.0560 - val_acc: 1.0000\n",
      "Epoch 24/100\n",
      "792/792 [==============================] - 1s - loss: 0.0756 - acc: 0.9924 - val_loss: 0.0552 - val_acc: 1.0000\n",
      "Epoch 25/100\n",
      "792/792 [==============================] - 1s - loss: 0.0696 - acc: 0.9937 - val_loss: 0.0545 - val_acc: 1.0000\n",
      "Epoch 26/100\n",
      "792/792 [==============================] - 1s - loss: 0.0652 - acc: 0.9962 - val_loss: 0.0536 - val_acc: 1.0000\n",
      "Epoch 27/100\n",
      "792/792 [==============================] - 1s - loss: 0.0692 - acc: 0.9962 - val_loss: 0.0539 - val_acc: 1.0000\n",
      "Epoch 28/100\n",
      "792/792 [==============================] - 1s - loss: 0.0643 - acc: 0.9962 - val_loss: 0.0552 - val_acc: 1.0000\n",
      "Epoch 29/100\n",
      "792/792 [==============================] - 1s - loss: 0.0662 - acc: 0.9962 - val_loss: 0.0562 - val_acc: 1.0000\n",
      "Epoch 30/100\n",
      "792/792 [==============================] - 1s - loss: 0.0656 - acc: 0.9975 - val_loss: 0.0547 - val_acc: 1.0000\n",
      "Epoch 31/100\n",
      "792/792 [==============================] - 1s - loss: 0.0589 - acc: 1.0000 - val_loss: 0.0559 - val_acc: 1.0000\n",
      "Epoch 32/100\n",
      "792/792 [==============================] - 1s - loss: 0.0688 - acc: 0.9937 - val_loss: 0.0589 - val_acc: 1.0000\n",
      "Epoch 33/100\n",
      "792/792 [==============================] - 1s - loss: 0.0631 - acc: 0.9987 - val_loss: 0.0573 - val_acc: 1.0000\n",
      "Epoch 34/100\n",
      "792/792 [==============================] - 1s - loss: 0.0618 - acc: 0.9975 - val_loss: 0.0577 - val_acc: 1.0000\n",
      "Epoch 35/100\n",
      "792/792 [==============================] - 1s - loss: 0.0612 - acc: 0.9975 - val_loss: 0.0533 - val_acc: 1.0000\n",
      "Epoch 36/100\n",
      "792/792 [==============================] - 1s - loss: 0.0604 - acc: 0.9975 - val_loss: 0.0531 - val_acc: 1.0000\n",
      "Epoch 37/100\n",
      "792/792 [==============================] - 1s - loss: 0.0576 - acc: 1.0000 - val_loss: 0.0530 - val_acc: 1.0000\n",
      "Epoch 38/100\n",
      "792/792 [==============================] - 1s - loss: 0.0589 - acc: 0.9949 - val_loss: 0.0567 - val_acc: 1.0000\n",
      "Epoch 39/100\n",
      "792/792 [==============================] - 1s - loss: 0.0604 - acc: 0.9987 - val_loss: 0.0644 - val_acc: 0.9899\n",
      "Epoch 40/100\n",
      "792/792 [==============================] - 1s - loss: 0.0612 - acc: 0.9975 - val_loss: 0.0529 - val_acc: 1.0000\n",
      "Epoch 41/100\n",
      "792/792 [==============================] - 1s - loss: 0.0577 - acc: 1.0000 - val_loss: 0.0505 - val_acc: 1.0000\n",
      "Epoch 42/100\n",
      "792/792 [==============================] - 1s - loss: 0.0656 - acc: 0.9975 - val_loss: 0.0501 - val_acc: 1.0000\n",
      "Epoch 43/100\n",
      "792/792 [==============================] - 1s - loss: 0.0587 - acc: 1.0000 - val_loss: 0.0490 - val_acc: 1.0000\n",
      "Epoch 44/100\n",
      "792/792 [==============================] - 1s - loss: 0.0690 - acc: 0.9962 - val_loss: 0.0515 - val_acc: 1.0000\n",
      "Epoch 45/100\n",
      "792/792 [==============================] - 1s - loss: 0.0628 - acc: 0.9937 - val_loss: 0.0491 - val_acc: 1.0000\n",
      "Epoch 46/100\n",
      "792/792 [==============================] - 1s - loss: 0.0597 - acc: 0.9975 - val_loss: 0.0476 - val_acc: 1.0000\n",
      "Epoch 47/100\n",
      "792/792 [==============================] - 1s - loss: 0.0535 - acc: 1.0000 - val_loss: 0.0486 - val_acc: 1.0000\n",
      "Epoch 48/100\n",
      "792/792 [==============================] - 1s - loss: 0.0625 - acc: 0.9949 - val_loss: 0.0518 - val_acc: 1.0000\n",
      "Epoch 49/100\n",
      "792/792 [==============================] - 1s - loss: 0.0557 - acc: 0.9987 - val_loss: 0.0487 - val_acc: 1.0000\n",
      "Epoch 50/100\n",
      "792/792 [==============================] - 1s - loss: 0.0527 - acc: 1.0000 - val_loss: 0.0455 - val_acc: 1.0000\n",
      "Epoch 51/100\n",
      "792/792 [==============================] - 1s - loss: 0.0559 - acc: 0.9987 - val_loss: 0.0443 - val_acc: 1.0000\n",
      "Epoch 52/100\n",
      "792/792 [==============================] - 1s - loss: 0.0587 - acc: 0.9949 - val_loss: 0.0498 - val_acc: 1.0000\n",
      "Epoch 53/100\n",
      "792/792 [==============================] - 1s - loss: 0.0598 - acc: 0.9975 - val_loss: 0.0495 - val_acc: 1.0000\n",
      "Epoch 54/100\n",
      "792/792 [==============================] - 1s - loss: 0.0599 - acc: 0.9962 - val_loss: 0.0537 - val_acc: 1.0000\n",
      "Epoch 55/100\n",
      "792/792 [==============================] - 1s - loss: 0.0613 - acc: 0.9962 - val_loss: 0.0531 - val_acc: 1.0000\n",
      "Epoch 56/100\n",
      "792/792 [==============================] - 1s - loss: 0.0566 - acc: 0.9987 - val_loss: 0.0466 - val_acc: 1.0000\n",
      "Epoch 57/100\n",
      "792/792 [==============================] - 1s - loss: 0.0569 - acc: 0.9975 - val_loss: 0.0468 - val_acc: 1.0000\n",
      "Epoch 58/100\n",
      "792/792 [==============================] - 1s - loss: 0.0566 - acc: 0.9962 - val_loss: 0.0465 - val_acc: 1.0000\n",
      "Epoch 59/100\n",
      "792/792 [==============================] - 1s - loss: 0.0589 - acc: 0.9949 - val_loss: 0.0459 - val_acc: 1.0000\n",
      "Epoch 60/100\n",
      "792/792 [==============================] - 1s - loss: 0.0539 - acc: 0.9987 - val_loss: 0.0480 - val_acc: 1.0000\n",
      "Epoch 61/100\n",
      "792/792 [==============================] - 1s - loss: 0.0677 - acc: 0.9924 - val_loss: 0.0473 - val_acc: 1.0000\n",
      "Epoch 62/100\n",
      "792/792 [==============================] - 1s - loss: 0.0671 - acc: 0.9924 - val_loss: 0.0490 - val_acc: 1.0000\n",
      "Epoch 63/100\n",
      "792/792 [==============================] - 1s - loss: 0.0570 - acc: 0.9975 - val_loss: 0.0479 - val_acc: 1.0000\n",
      "Epoch 64/100\n",
      "792/792 [==============================] - 1s - loss: 0.0572 - acc: 0.9949 - val_loss: 0.0500 - val_acc: 1.0000\n",
      "Epoch 65/100\n",
      "792/792 [==============================] - 1s - loss: 0.0574 - acc: 0.9962 - val_loss: 0.0474 - val_acc: 1.0000\n",
      "Epoch 66/100\n",
      "792/792 [==============================] - 1s - loss: 0.0486 - acc: 1.0000 - val_loss: 0.0463 - val_acc: 1.0000\n",
      "Epoch 67/100\n",
      "792/792 [==============================] - 1s - loss: 0.0519 - acc: 0.9975 - val_loss: 0.0446 - val_acc: 1.0000\n",
      "Epoch 68/100\n",
      "792/792 [==============================] - 1s - loss: 0.0533 - acc: 0.9987 - val_loss: 0.0447 - val_acc: 1.0000\n",
      "Epoch 69/100\n",
      "792/792 [==============================] - 1s - loss: 0.0470 - acc: 1.0000 - val_loss: 0.0442 - val_acc: 1.0000\n",
      "Epoch 70/100\n",
      "792/792 [==============================] - 1s - loss: 0.0519 - acc: 0.9975 - val_loss: 0.0430 - val_acc: 1.0000\n",
      "Epoch 71/100\n",
      "792/792 [==============================] - 1s - loss: 0.0509 - acc: 0.9975 - val_loss: 0.0400 - val_acc: 1.0000\n",
      "Epoch 72/100\n",
      "792/792 [==============================] - 1s - loss: 0.0502 - acc: 0.9975 - val_loss: 0.0429 - val_acc: 1.0000\n",
      "Epoch 73/100\n",
      "792/792 [==============================] - 1s - loss: 0.0590 - acc: 0.9949 - val_loss: 0.0449 - val_acc: 1.0000\n",
      "Epoch 74/100\n",
      "792/792 [==============================] - 1s - loss: 0.0594 - acc: 0.9962 - val_loss: 0.0422 - val_acc: 1.0000\n",
      "Epoch 75/100\n",
      "792/792 [==============================] - 1s - loss: 0.0532 - acc: 0.9949 - val_loss: 0.0408 - val_acc: 1.0000\n",
      "Epoch 76/100\n",
      "792/792 [==============================] - 1s - loss: 0.0535 - acc: 0.9987 - val_loss: 0.0409 - val_acc: 1.0000\n",
      "Epoch 77/100\n",
      "792/792 [==============================] - 1s - loss: 0.0551 - acc: 0.9962 - val_loss: 0.0425 - val_acc: 1.0000\n",
      "Epoch 78/100\n",
      "792/792 [==============================] - 1s - loss: 0.0475 - acc: 0.9987 - val_loss: 0.0431 - val_acc: 1.0000\n",
      "Epoch 79/100\n",
      "792/792 [==============================] - 1s - loss: 0.0498 - acc: 0.9962 - val_loss: 0.0435 - val_acc: 1.0000\n",
      "Epoch 80/100\n",
      "792/792 [==============================] - 1s - loss: 0.0536 - acc: 0.9962 - val_loss: 0.0491 - val_acc: 1.0000\n",
      "Epoch 81/100\n",
      "792/792 [==============================] - 1s - loss: 0.0476 - acc: 0.9987 - val_loss: 0.0483 - val_acc: 1.0000\n",
      "Epoch 82/100\n",
      "792/792 [==============================] - 1s - loss: 0.0448 - acc: 1.0000 - val_loss: 0.0460 - val_acc: 1.0000\n",
      "Epoch 83/100\n",
      "792/792 [==============================] - 1s - loss: 0.0513 - acc: 0.9987 - val_loss: 0.0428 - val_acc: 1.0000\n",
      "Epoch 84/100\n",
      "792/792 [==============================] - 1s - loss: 0.0447 - acc: 0.9975 - val_loss: 0.0441 - val_acc: 1.0000\n",
      "Epoch 85/100\n",
      "792/792 [==============================] - 1s - loss: 0.0473 - acc: 0.9975 - val_loss: 0.0415 - val_acc: 1.0000\n",
      "Epoch 86/100\n",
      "792/792 [==============================] - 1s - loss: 0.0433 - acc: 1.0000 - val_loss: 0.0394 - val_acc: 1.0000\n",
      "Epoch 87/100\n",
      "792/792 [==============================] - 1s - loss: 0.0472 - acc: 0.9962 - val_loss: 0.0406 - val_acc: 1.0000\n",
      "Epoch 88/100\n",
      "792/792 [==============================] - 1s - loss: 0.0543 - acc: 0.9924 - val_loss: 0.0393 - val_acc: 1.0000\n",
      "Epoch 89/100\n",
      "792/792 [==============================] - 1s - loss: 0.0504 - acc: 0.9962 - val_loss: 0.0398 - val_acc: 1.0000\n",
      "Epoch 90/100\n",
      "792/792 [==============================] - 1s - loss: 0.0518 - acc: 0.9949 - val_loss: 0.0417 - val_acc: 1.0000\n",
      "Epoch 91/100\n",
      "792/792 [==============================] - 1s - loss: 0.0463 - acc: 0.9987 - val_loss: 0.0398 - val_acc: 1.0000\n",
      "Epoch 92/100\n",
      "792/792 [==============================] - 1s - loss: 0.0457 - acc: 0.9987 - val_loss: 0.0387 - val_acc: 1.0000\n",
      "Epoch 93/100\n",
      "792/792 [==============================] - 1s - loss: 0.0496 - acc: 0.9962 - val_loss: 0.0393 - val_acc: 1.0000\n",
      "Epoch 94/100\n",
      "792/792 [==============================] - 1s - loss: 0.0453 - acc: 0.9987 - val_loss: 0.0470 - val_acc: 1.0000\n",
      "Epoch 95/100\n",
      "792/792 [==============================] - 1s - loss: 0.0545 - acc: 0.9949 - val_loss: 0.0419 - val_acc: 1.0000\n",
      "Epoch 96/100\n",
      "792/792 [==============================] - 1s - loss: 0.0492 - acc: 0.9975 - val_loss: 0.0451 - val_acc: 0.9899\n",
      "Epoch 97/100\n",
      "792/792 [==============================] - 1s - loss: 0.0557 - acc: 0.9937 - val_loss: 0.0467 - val_acc: 0.9899\n",
      "Epoch 98/100\n",
      "792/792 [==============================] - 1s - loss: 0.0444 - acc: 0.9987 - val_loss: 0.0382 - val_acc: 1.0000\n",
      "Epoch 99/100\n",
      "792/792 [==============================] - 1s - loss: 0.0452 - acc: 0.9987 - val_loss: 0.0383 - val_acc: 1.0000\n",
      "Epoch 100/100\n",
      "792/792 [==============================] - 1s - loss: 0.0422 - acc: 1.0000 - val_loss: 0.0405 - val_acc: 1.0000\n"
     ]
    }
   ],
   "source": [
    "# for image+ numerical data\n",
    "history = model.fit([train[1][:],train[0][:]],train_labels,\n",
    "                   validation_data=([validation[1][:],validation[0][:]],valid_labels),\n",
    "                   nb_epoch=100)"
   ]
  },
  {
   "cell_type": "raw",
   "metadata": {},
   "source": [
    "# for just just image data\n",
    "history = model.fit(train[1][:],train_labels,\n",
    "                   validation_data=(validation[1][:],valid_labels),\n",
    "                   nb_epoch=100)"
   ]
  },
  {
   "cell_type": "code",
   "execution_count": 103,
   "metadata": {
    "collapsed": false
   },
   "outputs": [],
   "source": [
    "history.model.save('2_CNN_and_pre_connected.h5')"
   ]
  },
  {
   "cell_type": "code",
   "execution_count": 104,
   "metadata": {
    "collapsed": false
   },
   "outputs": [
    {
     "data": {
      "image/svg+xml": [
       "<svg height=\"848pt\" viewBox=\"0.00 0.00 298.43 848.00\" width=\"298pt\" xmlns=\"http://www.w3.org/2000/svg\" xmlns:xlink=\"http://www.w3.org/1999/xlink\">\n",
       "<g class=\"graph\" id=\"graph0\" transform=\"scale(1 1) rotate(0) translate(4 844)\">\n",
       "<title>G</title>\n",
       "<polygon fill=\"#ffffff\" points=\"-4,4 -4,-844 294.4312,-844 294.4312,4 -4,4\" stroke=\"transparent\"/>\n",
       "<!-- 4778289872 -->\n",
       "<g class=\"node\" id=\"node1\">\n",
       "<title>4778289872</title>\n",
       "<polygon fill=\"none\" points=\"42.0137,-803.5 42.0137,-839.5 170.376,-839.5 170.376,-803.5 42.0137,-803.5\" stroke=\"#000000\"/>\n",
       "<text fill=\"#000000\" font-family=\"Times,serif\" font-size=\"14.00\" text-anchor=\"middle\" x=\"106.1948\" y=\"-817.3\">input_1: InputLayer</text>\n",
       "</g>\n",
       "<!-- 4878912656 -->\n",
       "<g class=\"node\" id=\"node2\">\n",
       "<title>4878912656</title>\n",
       "<polygon fill=\"none\" points=\"0,-730.5 0,-766.5 212.3896,-766.5 212.3896,-730.5 0,-730.5\" stroke=\"#000000\"/>\n",
       "<text fill=\"#000000\" font-family=\"Times,serif\" font-size=\"14.00\" text-anchor=\"middle\" x=\"106.1948\" y=\"-744.3\">convolution2d_13: Convolution2D</text>\n",
       "</g>\n",
       "<!-- 4778289872&#45;&gt;4878912656 -->\n",
       "<g class=\"edge\" id=\"edge1\">\n",
       "<title>4778289872-&gt;4878912656</title>\n",
       "<path d=\"M106.1948,-803.4551C106.1948,-795.3828 106.1948,-785.6764 106.1948,-776.6817\" fill=\"none\" stroke=\"#000000\"/>\n",
       "<polygon fill=\"#000000\" points=\"109.6949,-776.5903 106.1948,-766.5904 102.6949,-776.5904 109.6949,-776.5903\" stroke=\"#000000\"/>\n",
       "</g>\n",
       "<!-- 4879240656 -->\n",
       "<g class=\"node\" id=\"node3\">\n",
       "<title>4879240656</title>\n",
       "<polygon fill=\"none\" points=\"27.2344,-657.5 27.2344,-693.5 185.1553,-693.5 185.1553,-657.5 27.2344,-657.5\" stroke=\"#000000\"/>\n",
       "<text fill=\"#000000\" font-family=\"Times,serif\" font-size=\"14.00\" text-anchor=\"middle\" x=\"106.1948\" y=\"-671.3\">activation_13: Activation</text>\n",
       "</g>\n",
       "<!-- 4878912656&#45;&gt;4879240656 -->\n",
       "<g class=\"edge\" id=\"edge2\">\n",
       "<title>4878912656-&gt;4879240656</title>\n",
       "<path d=\"M106.1948,-730.4551C106.1948,-722.3828 106.1948,-712.6764 106.1948,-703.6817\" fill=\"none\" stroke=\"#000000\"/>\n",
       "<polygon fill=\"#000000\" points=\"109.6949,-703.5903 106.1948,-693.5904 102.6949,-703.5904 109.6949,-703.5903\" stroke=\"#000000\"/>\n",
       "</g>\n",
       "<!-- 4878912592 -->\n",
       "<g class=\"node\" id=\"node4\">\n",
       "<title>4878912592</title>\n",
       "<polygon fill=\"none\" points=\".3896,-584.5 .3896,-620.5 212,-620.5 212,-584.5 .3896,-584.5\" stroke=\"#000000\"/>\n",
       "<text fill=\"#000000\" font-family=\"Times,serif\" font-size=\"14.00\" text-anchor=\"middle\" x=\"106.1948\" y=\"-598.3\">maxpooling2d_13: MaxPooling2D</text>\n",
       "</g>\n",
       "<!-- 4879240656&#45;&gt;4878912592 -->\n",
       "<g class=\"edge\" id=\"edge3\">\n",
       "<title>4879240656-&gt;4878912592</title>\n",
       "<path d=\"M106.1948,-657.4551C106.1948,-649.3828 106.1948,-639.6764 106.1948,-630.6817\" fill=\"none\" stroke=\"#000000\"/>\n",
       "<polygon fill=\"#000000\" points=\"109.6949,-630.5903 106.1948,-620.5904 102.6949,-630.5904 109.6949,-630.5903\" stroke=\"#000000\"/>\n",
       "</g>\n",
       "<!-- 4878912208 -->\n",
       "<g class=\"node\" id=\"node5\">\n",
       "<title>4878912208</title>\n",
       "<polygon fill=\"none\" points=\"0,-511.5 0,-547.5 212.3896,-547.5 212.3896,-511.5 0,-511.5\" stroke=\"#000000\"/>\n",
       "<text fill=\"#000000\" font-family=\"Times,serif\" font-size=\"14.00\" text-anchor=\"middle\" x=\"106.1948\" y=\"-525.3\">convolution2d_14: Convolution2D</text>\n",
       "</g>\n",
       "<!-- 4878912592&#45;&gt;4878912208 -->\n",
       "<g class=\"edge\" id=\"edge4\">\n",
       "<title>4878912592-&gt;4878912208</title>\n",
       "<path d=\"M106.1948,-584.4551C106.1948,-576.3828 106.1948,-566.6764 106.1948,-557.6817\" fill=\"none\" stroke=\"#000000\"/>\n",
       "<polygon fill=\"#000000\" points=\"109.6949,-557.5903 106.1948,-547.5904 102.6949,-557.5904 109.6949,-557.5903\" stroke=\"#000000\"/>\n",
       "</g>\n",
       "<!-- 4879070608 -->\n",
       "<g class=\"node\" id=\"node6\">\n",
       "<title>4879070608</title>\n",
       "<polygon fill=\"none\" points=\"27.2344,-438.5 27.2344,-474.5 185.1553,-474.5 185.1553,-438.5 27.2344,-438.5\" stroke=\"#000000\"/>\n",
       "<text fill=\"#000000\" font-family=\"Times,serif\" font-size=\"14.00\" text-anchor=\"middle\" x=\"106.1948\" y=\"-452.3\">activation_14: Activation</text>\n",
       "</g>\n",
       "<!-- 4878912208&#45;&gt;4879070608 -->\n",
       "<g class=\"edge\" id=\"edge5\">\n",
       "<title>4878912208-&gt;4879070608</title>\n",
       "<path d=\"M106.1948,-511.4551C106.1948,-503.3828 106.1948,-493.6764 106.1948,-484.6817\" fill=\"none\" stroke=\"#000000\"/>\n",
       "<polygon fill=\"#000000\" points=\"109.6949,-484.5903 106.1948,-474.5904 102.6949,-484.5904 109.6949,-484.5903\" stroke=\"#000000\"/>\n",
       "</g>\n",
       "<!-- 4879323792 -->\n",
       "<g class=\"node\" id=\"node7\">\n",
       "<title>4879323792</title>\n",
       "<polygon fill=\"none\" points=\".3896,-365.5 .3896,-401.5 212,-401.5 212,-365.5 .3896,-365.5\" stroke=\"#000000\"/>\n",
       "<text fill=\"#000000\" font-family=\"Times,serif\" font-size=\"14.00\" text-anchor=\"middle\" x=\"106.1948\" y=\"-379.3\">maxpooling2d_14: MaxPooling2D</text>\n",
       "</g>\n",
       "<!-- 4879070608&#45;&gt;4879323792 -->\n",
       "<g class=\"edge\" id=\"edge6\">\n",
       "<title>4879070608-&gt;4879323792</title>\n",
       "<path d=\"M106.1948,-438.4551C106.1948,-430.3828 106.1948,-420.6764 106.1948,-411.6817\" fill=\"none\" stroke=\"#000000\"/>\n",
       "<polygon fill=\"#000000\" points=\"109.6949,-411.5903 106.1948,-401.5904 102.6949,-411.5904 109.6949,-411.5903\" stroke=\"#000000\"/>\n",
       "</g>\n",
       "<!-- 4884434064 -->\n",
       "<g class=\"node\" id=\"node8\">\n",
       "<title>4884434064</title>\n",
       "<polygon fill=\"none\" points=\"50.562,-292.5 50.562,-328.5 161.8276,-328.5 161.8276,-292.5 50.562,-292.5\" stroke=\"#000000\"/>\n",
       "<text fill=\"#000000\" font-family=\"Times,serif\" font-size=\"14.00\" text-anchor=\"middle\" x=\"106.1948\" y=\"-306.3\">flatten_7: Flatten</text>\n",
       "</g>\n",
       "<!-- 4879323792&#45;&gt;4884434064 -->\n",
       "<g class=\"edge\" id=\"edge7\">\n",
       "<title>4879323792-&gt;4884434064</title>\n",
       "<path d=\"M106.1948,-365.4551C106.1948,-357.3828 106.1948,-347.6764 106.1948,-338.6817\" fill=\"none\" stroke=\"#000000\"/>\n",
       "<polygon fill=\"#000000\" points=\"109.6949,-338.5903 106.1948,-328.5904 102.6949,-338.5904 109.6949,-338.5903\" stroke=\"#000000\"/>\n",
       "</g>\n",
       "<!-- 4879258960 -->\n",
       "<g class=\"node\" id=\"node10\">\n",
       "<title>4879258960</title>\n",
       "<polygon fill=\"none\" points=\"115.9873,-219.5 115.9873,-255.5 224.4023,-255.5 224.4023,-219.5 115.9873,-219.5\" stroke=\"#000000\"/>\n",
       "<text fill=\"#000000\" font-family=\"Times,serif\" font-size=\"14.00\" text-anchor=\"middle\" x=\"170.1948\" y=\"-233.3\">merge_1: Merge</text>\n",
       "</g>\n",
       "<!-- 4884434064&#45;&gt;4879258960 -->\n",
       "<g class=\"edge\" id=\"edge8\">\n",
       "<title>4884434064-&gt;4879258960</title>\n",
       "<path d=\"M122.0151,-292.4551C129.7075,-283.6809 139.0926,-272.9759 147.5292,-263.353\" fill=\"none\" stroke=\"#000000\"/>\n",
       "<polygon fill=\"#000000\" points=\"150.3742,-265.4171 154.3348,-255.5904 145.1106,-260.8024 150.3742,-265.4171\" stroke=\"#000000\"/>\n",
       "</g>\n",
       "<!-- 4884548688 -->\n",
       "<g class=\"node\" id=\"node9\">\n",
       "<title>4884548688</title>\n",
       "<polygon fill=\"none\" points=\"179.9585,-292.5 179.9585,-328.5 290.4312,-328.5 290.4312,-292.5 179.9585,-292.5\" stroke=\"#000000\"/>\n",
       "<text fill=\"#000000\" font-family=\"Times,serif\" font-size=\"14.00\" text-anchor=\"middle\" x=\"235.1948\" y=\"-306.3\">num: InputLayer</text>\n",
       "</g>\n",
       "<!-- 4884548688&#45;&gt;4879258960 -->\n",
       "<g class=\"edge\" id=\"edge9\">\n",
       "<title>4884548688-&gt;4879258960</title>\n",
       "<path d=\"M219.1274,-292.4551C211.2367,-283.5932 201.5922,-272.7616 192.9579,-263.0646\" fill=\"none\" stroke=\"#000000\"/>\n",
       "<polygon fill=\"#000000\" points=\"195.5667,-260.7313 186.3027,-255.5904 190.3387,-265.3863 195.5667,-260.7313\" stroke=\"#000000\"/>\n",
       "</g>\n",
       "<!-- 4884764432 -->\n",
       "<g class=\"node\" id=\"node11\">\n",
       "<title>4884764432</title>\n",
       "<polygon fill=\"none\" points=\"118.0688,-146.5 118.0688,-182.5 222.3208,-182.5 222.3208,-146.5 118.0688,-146.5\" stroke=\"#000000\"/>\n",
       "<text fill=\"#000000\" font-family=\"Times,serif\" font-size=\"14.00\" text-anchor=\"middle\" x=\"170.1948\" y=\"-160.3\">dense_7: Dense</text>\n",
       "</g>\n",
       "<!-- 4879258960&#45;&gt;4884764432 -->\n",
       "<g class=\"edge\" id=\"edge10\">\n",
       "<title>4879258960-&gt;4884764432</title>\n",
       "<path d=\"M170.1948,-219.4551C170.1948,-211.3828 170.1948,-201.6764 170.1948,-192.6817\" fill=\"none\" stroke=\"#000000\"/>\n",
       "<polygon fill=\"#000000\" points=\"173.6949,-192.5903 170.1948,-182.5904 166.6949,-192.5904 173.6949,-192.5903\" stroke=\"#000000\"/>\n",
       "</g>\n",
       "<!-- 4884711248 -->\n",
       "<g class=\"node\" id=\"node12\">\n",
       "<title>4884711248</title>\n",
       "<polygon fill=\"none\" points=\"106.3931,-73.5 106.3931,-109.5 233.9966,-109.5 233.9966,-73.5 106.3931,-73.5\" stroke=\"#000000\"/>\n",
       "<text fill=\"#000000\" font-family=\"Times,serif\" font-size=\"14.00\" text-anchor=\"middle\" x=\"170.1948\" y=\"-87.3\">dropout_7: Dropout</text>\n",
       "</g>\n",
       "<!-- 4884764432&#45;&gt;4884711248 -->\n",
       "<g class=\"edge\" id=\"edge11\">\n",
       "<title>4884764432-&gt;4884711248</title>\n",
       "<path d=\"M170.1948,-146.4551C170.1948,-138.3828 170.1948,-128.6764 170.1948,-119.6817\" fill=\"none\" stroke=\"#000000\"/>\n",
       "<polygon fill=\"#000000\" points=\"173.6949,-119.5903 170.1948,-109.5904 166.6949,-119.5904 173.6949,-119.5903\" stroke=\"#000000\"/>\n",
       "</g>\n",
       "<!-- 4884822352 -->\n",
       "<g class=\"node\" id=\"node13\">\n",
       "<title>4884822352</title>\n",
       "<polygon fill=\"none\" points=\"118.0688,-.5 118.0688,-36.5 222.3208,-36.5 222.3208,-.5 118.0688,-.5\" stroke=\"#000000\"/>\n",
       "<text fill=\"#000000\" font-family=\"Times,serif\" font-size=\"14.00\" text-anchor=\"middle\" x=\"170.1948\" y=\"-14.3\">dense_8: Dense</text>\n",
       "</g>\n",
       "<!-- 4884711248&#45;&gt;4884822352 -->\n",
       "<g class=\"edge\" id=\"edge12\">\n",
       "<title>4884711248-&gt;4884822352</title>\n",
       "<path d=\"M170.1948,-73.4551C170.1948,-65.3828 170.1948,-55.6764 170.1948,-46.6817\" fill=\"none\" stroke=\"#000000\"/>\n",
       "<polygon fill=\"#000000\" points=\"173.6949,-46.5903 170.1948,-36.5904 166.6949,-46.5904 173.6949,-46.5903\" stroke=\"#000000\"/>\n",
       "</g>\n",
       "</g>\n",
       "</svg>"
      ],
      "text/plain": [
       "<IPython.core.display.SVG object>"
      ]
     },
     "execution_count": 104,
     "metadata": {},
     "output_type": "execute_result"
    }
   ],
   "source": [
    "from IPython.display import SVG\n",
    "from keras.utils.visualize_util import model_to_dot\n",
    "\n",
    "SVG(model_to_dot(history.model).create(prog='dot', format='svg'))"
   ]
  },
  {
   "cell_type": "code",
   "execution_count": 105,
   "metadata": {
    "collapsed": true
   },
   "outputs": [],
   "source": [
    "from keras.utils.visualize_util import plot\n",
    "#plot(history.model, to_file='1_CNN.h5.png')"
   ]
  },
  {
   "cell_type": "code",
   "execution_count": 106,
   "metadata": {
    "collapsed": false
   },
   "outputs": [
    {
     "data": {
      "text/plain": [
       "<matplotlib.legend.Legend at 0x12c7b4290>"
      ]
     },
     "execution_count": 106,
     "metadata": {},
     "output_type": "execute_result"
    },
    {
     "data": {
      "image/png": "[encoded data removed]",
      "text/plain": [
       "<matplotlib.figure.Figure at 0x1213b83d0>"
      ]
     },
     "metadata": {},
     "output_type": "display_data"
    }
   ],
   "source": [
    "import matplotlib.pyplot as plt\n",
    "import seaborn as sns\n",
    "%matplotlib inline\n",
    "plt.plot(history.history['loss'])\n",
    "plt.plot(history.history['val_loss'])\n",
    "plt.title('model loss')\n",
    "plt.ylabel('loss')\n",
    "plt.xlabel('epoch')\n",
    "plt.legend(['train', 'validation'], loc='upper left')"
   ]
  },
  {
   "cell_type": "code",
   "execution_count": 95,
   "metadata": {
    "collapsed": true
   },
   "outputs": [],
   "source": [
    "#validation_history_dict = {}"
   ]
  },
  {
   "cell_type": "code",
   "execution_count": 107,
   "metadata": {
    "collapsed": true
   },
   "outputs": [],
   "source": [
    "validation_history_dict['2_CNN_and_pre_connected'] = history.history['val_loss']"
   ]
  },
  {
   "cell_type": "code",
   "execution_count": 108,
   "metadata": {
    "collapsed": false
   },
   "outputs": [
    {
     "data": {
      "text/plain": [
       "['2_CNN_and_pre_connected', '2_CN', '5_CN', '1_CN']"
      ]
     },
     "execution_count": 108,
     "metadata": {},
     "output_type": "execute_result"
    }
   ],
   "source": [
    "validation_history_dict.keys()"
   ]
  },
  {
   "cell_type": "code",
   "execution_count": 110,
   "metadata": {
    "collapsed": false
   },
   "outputs": [],
   "source": [
    "import pickle\n",
    "pickle.dump( validation_history_dict, open( \"validation_history_dict.p\", \"wb\" ) )"
   ]
  },
  {
   "cell_type": "code",
   "execution_count": 114,
   "metadata": {
    "collapsed": false
   },
   "outputs": [
    {
     "data": {
      "text/plain": [
       "<matplotlib.legend.Legend at 0x12cb3cb10>"
      ]
     },
     "execution_count": 114,
     "metadata": {},
     "output_type": "execute_result"
    },
    {
     "data": {
      "image/png": "[encoded data removed]",
      "text/plain": [
       "<matplotlib.figure.Figure at 0x12bc728d0>"
      ]
     },
     "metadata": {},
     "output_type": "display_data"
    }
   ],
   "source": [
    "plt.plot(validation_history_dict['1_CN'])\n",
    "plt.plot(validation_history_dict['2_CN'])\n",
    "plt.plot(validation_history_dict['5_CN'])\n",
    "plt.plot(validation_history_dict['2_CNN_and_pre_connected'])\n",
    "plt.title('validation model loss')\n",
    "plt.ylabel('loss')\n",
    "plt.xlabel('epoch')\n",
    "plt.legend(['1_CN', '2_CN','5_Cn', '2_CNN_and_pre_connected'], loc='upper left')"
   ]
  },
  {
   "cell_type": "markdown",
   "metadata": {},
   "source": [
    "# Viz stuff"
   ]
  },
  {
   "cell_type": "code",
   "execution_count": 2,
   "metadata": {
    "collapsed": true
   },
   "outputs": [],
   "source": [
    "import matplotlib.pyplot as plt\n",
    "import seaborn as sns\n",
    "%matplotlib inline"
   ]
  },
  {
   "cell_type": "code",
   "execution_count": 6,
   "metadata": {
    "collapsed": false
   },
   "outputs": [],
   "source": [
    "One_CNN = load_model('saved_models/1_CNN.h5')"
   ]
  },
  {
   "cell_type": "code",
   "execution_count": 116,
   "metadata": {
    "collapsed": false
   },
   "outputs": [],
   "source": [
    "data = pickle.load( open( \"saved_models/validation_history_dict.p\", \"rb\" ) )"
   ]
  },
  {
   "cell_type": "code",
   "execution_count": 118,
   "metadata": {
    "collapsed": false
   },
   "outputs": [
    {
     "data": {
      "text/plain": [
       "['2_CN', '5_CN', '1_CN', '2_CNN_and_pre_connected']"
      ]
     },
     "execution_count": 118,
     "metadata": {},
     "output_type": "execute_result"
    }
   ],
   "source": [
    "data.keys()"
   ]
  },
  {
   "cell_type": "markdown",
   "metadata": {},
   "source": [
    "# Output for Kaggle"
   ]
  },
  {
   "cell_type": "code",
   "execution_count": null,
   "metadata": {
    "collapsed": true
   },
   "outputs": [],
   "source": [
    "test = load_test_data('test.csv')"
   ]
  },
  {
   "cell_type": "code",
   "execution_count": null,
   "metadata": {
    "collapsed": false,
    "scrolled": true
   },
   "outputs": [],
   "source": [
    "results = history.model.predict([test[2][:],test[1][:]])"
   ]
  },
  {
   "cell_type": "code",
   "execution_count": null,
   "metadata": {
    "collapsed": false
   },
   "outputs": [],
   "source": [
    "labels = sorted(pd.read_csv('train.csv').species.unique())"
   ]
  },
  {
   "cell_type": "code",
   "execution_count": null,
   "metadata": {
    "collapsed": false
   },
   "outputs": [],
   "source": [
    "index, test, feature_image = load_test_data('test.csv')"
   ]
  },
  {
   "cell_type": "code",
   "execution_count": null,
   "metadata": {
    "collapsed": false
   },
   "outputs": [],
   "source": [
    "results_sub = pd.DataFrame(results,index=index,columns=labels)"
   ]
  },
  {
   "cell_type": "code",
   "execution_count": null,
   "metadata": {
    "collapsed": false
   },
   "outputs": [],
   "source": [
    "#results_sub.to_csv('submit.csv')"
   ]
  },
  {
   "cell_type": "code",
   "execution_count": null,
   "metadata": {
    "collapsed": false
   },
   "outputs": [],
   "source": [
    "model.summary"
   ]
  },
  {
   "cell_type": "code",
   "execution_count": null,
   "metadata": {
    "collapsed": false
   },
   "outputs": [],
   "source": [
    "from IPython.display import SVG\n",
    "from keras.utils.visualize_util import model_to_dot\n",
    "\n",
    "SVG(model_to_dot(history.model).create(prog='dot', format='svg'))"
   ]
  },
  {
   "cell_type": "code",
   "execution_count": null,
   "metadata": {
    "collapsed": false
   },
   "outputs": [],
   "source": [
    "layer_dict = dict([(layer.name, layer) for layer in history.model.layers])"
   ]
  }
 ],
 "metadata": {
  "anaconda-cloud": {},
  "kernelspec": {
   "display_name": "Python [conda root]",
   "language": "python",
   "name": "conda-root-py"
  },
  "language_info": {
   "codemirror_mode": {
    "name": "ipython",
    "version": 2
   },
   "file_extension": ".py",
   "mimetype": "text/x-python",
   "name": "python",
   "nbconvert_exporter": "python",
   "pygments_lexer": "ipython2",
   "version": "2.7.12"
  }
 },
 "nbformat": 4,
 "nbformat_minor": 1
}
