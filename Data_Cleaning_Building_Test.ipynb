{
 "cells": [
  {
   "cell_type": "markdown",
   "metadata": {},
   "source": [
    "# Making the Data usable for Keras/tensorflow"
   ]
  },
  {
   "cell_type": "code",
   "execution_count": 1,
   "metadata": {
    "collapsed": false
   },
   "outputs": [
    {
     "name": "stderr",
     "output_type": "stream",
     "text": [
      "Using TensorFlow backend.\n"
     ]
    }
   ],
   "source": [
    "%matplotlib inline\n",
    "import matplotlib.pyplot as plt\n",
    "import matplotlib.image as mpimg\n",
    "import numpy as np\n",
    "import pandas as pd\n",
    "import tensorflow as tf\n",
    "import scipy.misc as sp\n",
    "from keras.layers import Input, Convolution2D, Dense, Activation, Flatten\n",
    "from keras.layers import  MaxPooling2D, Dropout, LocallyConnected2D\n",
    "from keras.models import Model, load_model\n",
    "from keras.optimizers import SGD"
   ]
  },
  {
   "cell_type": "code",
   "execution_count": 2,
   "metadata": {
    "collapsed": true
   },
   "outputs": [],
   "source": [
    "#file path for images\n",
    "file_path = 'images/'"
   ]
  },
  {
   "cell_type": "code",
   "execution_count": 3,
   "metadata": {
    "collapsed": true
   },
   "outputs": [],
   "source": [
    "#image names are 1 to 1584\n",
    "images = [file_path + str(i)+'.jpg' for i in range(1,1585)]"
   ]
  },
  {
   "cell_type": "code",
   "execution_count": 4,
   "metadata": {
    "collapsed": false
   },
   "outputs": [
    {
     "data": {
      "image/png": "[encoded data removed]",
      "text/plain": [
       "<matplotlib.figure.Figure at 0x118a50c90>"
      ]
     },
     "metadata": {},
     "output_type": "display_data"
    }
   ],
   "source": [
    "#seeing if pathway algo works.\n",
    "img = mpimg.imread(images[0])\n",
    "imgplot = plt.imshow(img)"
   ]
  },
  {
   "cell_type": "code",
   "execution_count": 5,
   "metadata": {
    "collapsed": false
   },
   "outputs": [],
   "source": [
    "#make dictionary of all images\n",
    "image_dict = {}\n",
    "for image in images:\n",
    "    img = mpimg.imread(image)\n",
    "    image_dict[image.split('.')[0].split('/')[1]] = [img.shape,img]"
   ]
  },
  {
   "cell_type": "code",
   "execution_count": 6,
   "metadata": {
    "collapsed": false
   },
   "outputs": [
    {
     "data": {
      "text/plain": [
       "[(918, 924), array([[0, 0, 0, ..., 0, 0, 0],\n",
       "        [0, 0, 0, ..., 0, 0, 0],\n",
       "        [0, 0, 0, ..., 0, 0, 0],\n",
       "        ..., \n",
       "        [0, 0, 0, ..., 0, 0, 0],\n",
       "        [0, 0, 0, ..., 0, 0, 0],\n",
       "        [0, 0, 0, ..., 0, 0, 0]], dtype=uint8)]"
      ]
     },
     "execution_count": 6,
     "metadata": {},
     "output_type": "execute_result"
    }
   ],
   "source": [
    "image_dict['344']"
   ]
  },
  {
   "cell_type": "markdown",
   "metadata": {},
   "source": [
    "##### Seems that images have different aspect ratio and resolution... will need to clean this up\n",
    "\n",
    "current solution is since there is alreay a lot of black space on the images, I will just increase the boarder "
   ]
  },
  {
   "cell_type": "markdown",
   "metadata": {},
   "source": [
    "### Add \"black space\" around each image to make all images the same size"
   ]
  },
  {
   "cell_type": "code",
   "execution_count": 7,
   "metadata": {
    "collapsed": true
   },
   "outputs": [],
   "source": [
    "#finding the max resoltuion in each image, so new images will be resized to maxium possible resolution\n",
    "max_0 = 0\n",
    "max_1 = 0\n",
    "for key in image_dict:\n",
    "    if image_dict[key][0][0] >= max_0:\n",
    "        max_0 = image_dict[key][0][0]\n",
    "    if image_dict[key][0][1] >= max_1:\n",
    "        max_1 = image_dict[key][0][1]\n"
   ]
  },
  {
   "cell_type": "code",
   "execution_count": 9,
   "metadata": {
    "collapsed": false
   },
   "outputs": [
    {
     "name": "stdout",
     "output_type": "stream",
     "text": [
      "(1706, 1706)\n"
     ]
    }
   ],
   "source": [
    "shape = (max_1,max_1)\n",
    "print shape"
   ]
  },
  {
   "cell_type": "code",
   "execution_count": 9,
   "metadata": {
    "collapsed": false
   },
   "outputs": [],
   "source": [
    "# placing smaller image into new standardized image. standardized image is larger and adds extra black\n",
    "# space around the image\n",
    "for key in image_dict:\n",
    "    large_array = np.zeros(shape)\n",
    "    small_array = image_dict[key][1]\n",
    "    lower_bound_0 = (large_array.shape[0] - small_array.shape[0])/2\n",
    "    upper_bound_0 = ((large_array.shape[0] - small_array.shape[0])/2) + small_array.shape[0]\n",
    "    lower_bound_1 = (large_array.shape[1] - small_array.shape[1])/2\n",
    "    upper_bound_1 = ((large_array.shape[1] - small_array.shape[1])/2) + small_array.shape[1]\n",
    "    large_array[lower_bound_0:upper_bound_0,lower_bound_1:upper_bound_1] = small_array\n",
    "    image_dict[key].append(large_array)"
   ]
  },
  {
   "cell_type": "code",
   "execution_count": 10,
   "metadata": {
    "collapsed": false
   },
   "outputs": [
    {
     "data": {
      "image/png": "[encoded data removed]",
      "text/plain": [
       "<matplotlib.figure.Figure at 0x118f32110>"
      ]
     },
     "metadata": {},
     "output_type": "display_data"
    }
   ],
   "source": [
    "imgplot = plt.imshow(image_dict['1'][1])"
   ]
  },
  {
   "cell_type": "code",
   "execution_count": 11,
   "metadata": {
    "collapsed": false
   },
   "outputs": [
    {
     "data": {
      "image/png": "[encoded data removed]",
      "text/plain": [
       "<matplotlib.figure.Figure at 0x1385edad0>"
      ]
     },
     "metadata": {},
     "output_type": "display_data"
    }
   ],
   "source": [
    "imgplot = plt.imshow(image_dict['1'][2])"
   ]
  },
  {
   "cell_type": "markdown",
   "metadata": {},
   "source": [
    "### resizing the images"
   ]
  },
  {
   "cell_type": "code",
   "execution_count": 12,
   "metadata": {
    "collapsed": true
   },
   "outputs": [],
   "source": [
    "image_size = 64 # making a smaller square image"
   ]
  },
  {
   "cell_type": "code",
   "execution_count": 13,
   "metadata": {
    "collapsed": false
   },
   "outputs": [],
   "source": [
    "for key in image_dict:\n",
    "    image_dict[key].append(sp.imresize(image_dict[key][2],(image_size,image_size)))"
   ]
  },
  {
   "cell_type": "code",
   "execution_count": 14,
   "metadata": {
    "collapsed": false
   },
   "outputs": [
    {
     "data": {
      "image/png": "[encoded data removed]",
      "text/plain": [
       "<matplotlib.figure.Figure at 0x118fc0250>"
      ]
     },
     "metadata": {},
     "output_type": "display_data"
    }
   ],
   "source": [
    "imgplot = plt.imshow(image_dict['1'][3])"
   ]
  },
  {
   "cell_type": "markdown",
   "metadata": {},
   "source": [
    "# Split into training and test sets from kaggle list"
   ]
  },
  {
   "cell_type": "code",
   "execution_count": 15,
   "metadata": {
    "collapsed": true
   },
   "outputs": [],
   "source": [
    "train_df = pd.read_csv('train.csv')"
   ]
  },
  {
   "cell_type": "code",
   "execution_count": 16,
   "metadata": {
    "collapsed": false
   },
   "outputs": [
    {
     "data": {
      "text/plain": [
       "(990,)"
      ]
     },
     "execution_count": 16,
     "metadata": {},
     "output_type": "execute_result"
    }
   ],
   "source": [
    "train_df['id'].shape"
   ]
  },
  {
   "cell_type": "code",
   "execution_count": 17,
   "metadata": {
    "collapsed": true
   },
   "outputs": [],
   "source": [
    "test_df = pd.read_csv('test.csv')"
   ]
  },
  {
   "cell_type": "code",
   "execution_count": 18,
   "metadata": {
    "collapsed": false
   },
   "outputs": [
    {
     "data": {
      "text/html": [
       "<div>\n",
       "<table border=\"1\" class=\"dataframe\">\n",
       "  <thead>\n",
       "    <tr style=\"text-align: right;\">\n",
       "      <th></th>\n",
       "      <th>id</th>\n",
       "      <th>margin1</th>\n",
       "      <th>margin2</th>\n",
       "      <th>margin3</th>\n",
       "      <th>margin4</th>\n",
       "      <th>margin5</th>\n",
       "      <th>margin6</th>\n",
       "      <th>margin7</th>\n",
       "      <th>margin8</th>\n",
       "      <th>margin9</th>\n",
       "      <th>...</th>\n",
       "      <th>texture55</th>\n",
       "      <th>texture56</th>\n",
       "      <th>texture57</th>\n",
       "      <th>texture58</th>\n",
       "      <th>texture59</th>\n",
       "      <th>texture60</th>\n",
       "      <th>texture61</th>\n",
       "      <th>texture62</th>\n",
       "      <th>texture63</th>\n",
       "      <th>texture64</th>\n",
       "    </tr>\n",
       "  </thead>\n",
       "  <tbody>\n",
       "    <tr>\n",
       "      <th>0</th>\n",
       "      <td>4</td>\n",
       "      <td>0.019531</td>\n",
       "      <td>0.009766</td>\n",
       "      <td>0.078125</td>\n",
       "      <td>0.011719</td>\n",
       "      <td>0.003906</td>\n",
       "      <td>0.015625</td>\n",
       "      <td>0.005859</td>\n",
       "      <td>0.0</td>\n",
       "      <td>0.005859</td>\n",
       "      <td>...</td>\n",
       "      <td>0.006836</td>\n",
       "      <td>0.000000</td>\n",
       "      <td>0.015625</td>\n",
       "      <td>0.000977</td>\n",
       "      <td>0.015625</td>\n",
       "      <td>0.0</td>\n",
       "      <td>0.0</td>\n",
       "      <td>0.000000</td>\n",
       "      <td>0.003906</td>\n",
       "      <td>0.053711</td>\n",
       "    </tr>\n",
       "    <tr>\n",
       "      <th>1</th>\n",
       "      <td>7</td>\n",
       "      <td>0.007812</td>\n",
       "      <td>0.005859</td>\n",
       "      <td>0.064453</td>\n",
       "      <td>0.009766</td>\n",
       "      <td>0.003906</td>\n",
       "      <td>0.013672</td>\n",
       "      <td>0.007812</td>\n",
       "      <td>0.0</td>\n",
       "      <td>0.033203</td>\n",
       "      <td>...</td>\n",
       "      <td>0.000000</td>\n",
       "      <td>0.000000</td>\n",
       "      <td>0.006836</td>\n",
       "      <td>0.001953</td>\n",
       "      <td>0.013672</td>\n",
       "      <td>0.0</td>\n",
       "      <td>0.0</td>\n",
       "      <td>0.000977</td>\n",
       "      <td>0.037109</td>\n",
       "      <td>0.044922</td>\n",
       "    </tr>\n",
       "    <tr>\n",
       "      <th>2</th>\n",
       "      <td>9</td>\n",
       "      <td>0.000000</td>\n",
       "      <td>0.000000</td>\n",
       "      <td>0.001953</td>\n",
       "      <td>0.021484</td>\n",
       "      <td>0.041016</td>\n",
       "      <td>0.000000</td>\n",
       "      <td>0.023438</td>\n",
       "      <td>0.0</td>\n",
       "      <td>0.011719</td>\n",
       "      <td>...</td>\n",
       "      <td>0.128910</td>\n",
       "      <td>0.000000</td>\n",
       "      <td>0.000977</td>\n",
       "      <td>0.000000</td>\n",
       "      <td>0.000000</td>\n",
       "      <td>0.0</td>\n",
       "      <td>0.0</td>\n",
       "      <td>0.015625</td>\n",
       "      <td>0.000000</td>\n",
       "      <td>0.000000</td>\n",
       "    </tr>\n",
       "    <tr>\n",
       "      <th>3</th>\n",
       "      <td>12</td>\n",
       "      <td>0.000000</td>\n",
       "      <td>0.000000</td>\n",
       "      <td>0.009766</td>\n",
       "      <td>0.011719</td>\n",
       "      <td>0.017578</td>\n",
       "      <td>0.000000</td>\n",
       "      <td>0.003906</td>\n",
       "      <td>0.0</td>\n",
       "      <td>0.003906</td>\n",
       "      <td>...</td>\n",
       "      <td>0.012695</td>\n",
       "      <td>0.015625</td>\n",
       "      <td>0.002930</td>\n",
       "      <td>0.036133</td>\n",
       "      <td>0.013672</td>\n",
       "      <td>0.0</td>\n",
       "      <td>0.0</td>\n",
       "      <td>0.089844</td>\n",
       "      <td>0.000000</td>\n",
       "      <td>0.008789</td>\n",
       "    </tr>\n",
       "    <tr>\n",
       "      <th>4</th>\n",
       "      <td>13</td>\n",
       "      <td>0.001953</td>\n",
       "      <td>0.000000</td>\n",
       "      <td>0.015625</td>\n",
       "      <td>0.009766</td>\n",
       "      <td>0.039062</td>\n",
       "      <td>0.000000</td>\n",
       "      <td>0.009766</td>\n",
       "      <td>0.0</td>\n",
       "      <td>0.005859</td>\n",
       "      <td>...</td>\n",
       "      <td>0.000000</td>\n",
       "      <td>0.042969</td>\n",
       "      <td>0.016602</td>\n",
       "      <td>0.010742</td>\n",
       "      <td>0.041016</td>\n",
       "      <td>0.0</td>\n",
       "      <td>0.0</td>\n",
       "      <td>0.007812</td>\n",
       "      <td>0.009766</td>\n",
       "      <td>0.007812</td>\n",
       "    </tr>\n",
       "  </tbody>\n",
       "</table>\n",
       "<p>5 rows × 193 columns</p>\n",
       "</div>"
      ],
      "text/plain": [
       "   id   margin1   margin2   margin3   margin4   margin5   margin6   margin7  \\\n",
       "0   4  0.019531  0.009766  0.078125  0.011719  0.003906  0.015625  0.005859   \n",
       "1   7  0.007812  0.005859  0.064453  0.009766  0.003906  0.013672  0.007812   \n",
       "2   9  0.000000  0.000000  0.001953  0.021484  0.041016  0.000000  0.023438   \n",
       "3  12  0.000000  0.000000  0.009766  0.011719  0.017578  0.000000  0.003906   \n",
       "4  13  0.001953  0.000000  0.015625  0.009766  0.039062  0.000000  0.009766   \n",
       "\n",
       "   margin8   margin9    ...      texture55  texture56  texture57  texture58  \\\n",
       "0      0.0  0.005859    ...       0.006836   0.000000   0.015625   0.000977   \n",
       "1      0.0  0.033203    ...       0.000000   0.000000   0.006836   0.001953   \n",
       "2      0.0  0.011719    ...       0.128910   0.000000   0.000977   0.000000   \n",
       "3      0.0  0.003906    ...       0.012695   0.015625   0.002930   0.036133   \n",
       "4      0.0  0.005859    ...       0.000000   0.042969   0.016602   0.010742   \n",
       "\n",
       "   texture59  texture60  texture61  texture62  texture63  texture64  \n",
       "0   0.015625        0.0        0.0   0.000000   0.003906   0.053711  \n",
       "1   0.013672        0.0        0.0   0.000977   0.037109   0.044922  \n",
       "2   0.000000        0.0        0.0   0.015625   0.000000   0.000000  \n",
       "3   0.013672        0.0        0.0   0.089844   0.000000   0.008789  \n",
       "4   0.041016        0.0        0.0   0.007812   0.009766   0.007812  \n",
       "\n",
       "[5 rows x 193 columns]"
      ]
     },
     "execution_count": 18,
     "metadata": {},
     "output_type": "execute_result"
    }
   ],
   "source": [
    "test_df.head()"
   ]
  },
  {
   "cell_type": "code",
   "execution_count": 19,
   "metadata": {
    "collapsed": false
   },
   "outputs": [
    {
     "data": {
      "text/html": [
       "<div>\n",
       "<table border=\"1\" class=\"dataframe\">\n",
       "  <thead>\n",
       "    <tr style=\"text-align: right;\">\n",
       "      <th></th>\n",
       "      <th>id</th>\n",
       "      <th>species</th>\n",
       "      <th>margin1</th>\n",
       "      <th>margin2</th>\n",
       "      <th>margin3</th>\n",
       "      <th>margin4</th>\n",
       "      <th>margin5</th>\n",
       "      <th>margin6</th>\n",
       "      <th>margin7</th>\n",
       "      <th>margin8</th>\n",
       "      <th>...</th>\n",
       "      <th>texture55</th>\n",
       "      <th>texture56</th>\n",
       "      <th>texture57</th>\n",
       "      <th>texture58</th>\n",
       "      <th>texture59</th>\n",
       "      <th>texture60</th>\n",
       "      <th>texture61</th>\n",
       "      <th>texture62</th>\n",
       "      <th>texture63</th>\n",
       "      <th>texture64</th>\n",
       "    </tr>\n",
       "  </thead>\n",
       "  <tbody>\n",
       "    <tr>\n",
       "      <th>0</th>\n",
       "      <td>1</td>\n",
       "      <td>Acer_Opalus</td>\n",
       "      <td>0.007812</td>\n",
       "      <td>0.023438</td>\n",
       "      <td>0.023438</td>\n",
       "      <td>0.003906</td>\n",
       "      <td>0.011719</td>\n",
       "      <td>0.009766</td>\n",
       "      <td>0.027344</td>\n",
       "      <td>0.0</td>\n",
       "      <td>...</td>\n",
       "      <td>0.007812</td>\n",
       "      <td>0.000000</td>\n",
       "      <td>0.002930</td>\n",
       "      <td>0.002930</td>\n",
       "      <td>0.035156</td>\n",
       "      <td>0.0</td>\n",
       "      <td>0.0</td>\n",
       "      <td>0.004883</td>\n",
       "      <td>0.000000</td>\n",
       "      <td>0.025391</td>\n",
       "    </tr>\n",
       "    <tr>\n",
       "      <th>1</th>\n",
       "      <td>2</td>\n",
       "      <td>Pterocarya_Stenoptera</td>\n",
       "      <td>0.005859</td>\n",
       "      <td>0.000000</td>\n",
       "      <td>0.031250</td>\n",
       "      <td>0.015625</td>\n",
       "      <td>0.025391</td>\n",
       "      <td>0.001953</td>\n",
       "      <td>0.019531</td>\n",
       "      <td>0.0</td>\n",
       "      <td>...</td>\n",
       "      <td>0.000977</td>\n",
       "      <td>0.000000</td>\n",
       "      <td>0.000000</td>\n",
       "      <td>0.000977</td>\n",
       "      <td>0.023438</td>\n",
       "      <td>0.0</td>\n",
       "      <td>0.0</td>\n",
       "      <td>0.000977</td>\n",
       "      <td>0.039062</td>\n",
       "      <td>0.022461</td>\n",
       "    </tr>\n",
       "    <tr>\n",
       "      <th>2</th>\n",
       "      <td>3</td>\n",
       "      <td>Quercus_Hartwissiana</td>\n",
       "      <td>0.005859</td>\n",
       "      <td>0.009766</td>\n",
       "      <td>0.019531</td>\n",
       "      <td>0.007812</td>\n",
       "      <td>0.003906</td>\n",
       "      <td>0.005859</td>\n",
       "      <td>0.068359</td>\n",
       "      <td>0.0</td>\n",
       "      <td>...</td>\n",
       "      <td>0.154300</td>\n",
       "      <td>0.000000</td>\n",
       "      <td>0.005859</td>\n",
       "      <td>0.000977</td>\n",
       "      <td>0.007812</td>\n",
       "      <td>0.0</td>\n",
       "      <td>0.0</td>\n",
       "      <td>0.000000</td>\n",
       "      <td>0.020508</td>\n",
       "      <td>0.002930</td>\n",
       "    </tr>\n",
       "    <tr>\n",
       "      <th>3</th>\n",
       "      <td>5</td>\n",
       "      <td>Tilia_Tomentosa</td>\n",
       "      <td>0.000000</td>\n",
       "      <td>0.003906</td>\n",
       "      <td>0.023438</td>\n",
       "      <td>0.005859</td>\n",
       "      <td>0.021484</td>\n",
       "      <td>0.019531</td>\n",
       "      <td>0.023438</td>\n",
       "      <td>0.0</td>\n",
       "      <td>...</td>\n",
       "      <td>0.000000</td>\n",
       "      <td>0.000977</td>\n",
       "      <td>0.000000</td>\n",
       "      <td>0.000000</td>\n",
       "      <td>0.020508</td>\n",
       "      <td>0.0</td>\n",
       "      <td>0.0</td>\n",
       "      <td>0.017578</td>\n",
       "      <td>0.000000</td>\n",
       "      <td>0.047852</td>\n",
       "    </tr>\n",
       "    <tr>\n",
       "      <th>4</th>\n",
       "      <td>6</td>\n",
       "      <td>Quercus_Variabilis</td>\n",
       "      <td>0.005859</td>\n",
       "      <td>0.003906</td>\n",
       "      <td>0.048828</td>\n",
       "      <td>0.009766</td>\n",
       "      <td>0.013672</td>\n",
       "      <td>0.015625</td>\n",
       "      <td>0.005859</td>\n",
       "      <td>0.0</td>\n",
       "      <td>...</td>\n",
       "      <td>0.096680</td>\n",
       "      <td>0.000000</td>\n",
       "      <td>0.021484</td>\n",
       "      <td>0.000000</td>\n",
       "      <td>0.000000</td>\n",
       "      <td>0.0</td>\n",
       "      <td>0.0</td>\n",
       "      <td>0.000000</td>\n",
       "      <td>0.000000</td>\n",
       "      <td>0.031250</td>\n",
       "    </tr>\n",
       "  </tbody>\n",
       "</table>\n",
       "<p>5 rows × 194 columns</p>\n",
       "</div>"
      ],
      "text/plain": [
       "   id                species   margin1   margin2   margin3   margin4  \\\n",
       "0   1            Acer_Opalus  0.007812  0.023438  0.023438  0.003906   \n",
       "1   2  Pterocarya_Stenoptera  0.005859  0.000000  0.031250  0.015625   \n",
       "2   3   Quercus_Hartwissiana  0.005859  0.009766  0.019531  0.007812   \n",
       "3   5        Tilia_Tomentosa  0.000000  0.003906  0.023438  0.005859   \n",
       "4   6     Quercus_Variabilis  0.005859  0.003906  0.048828  0.009766   \n",
       "\n",
       "    margin5   margin6   margin7  margin8    ...      texture55  texture56  \\\n",
       "0  0.011719  0.009766  0.027344      0.0    ...       0.007812   0.000000   \n",
       "1  0.025391  0.001953  0.019531      0.0    ...       0.000977   0.000000   \n",
       "2  0.003906  0.005859  0.068359      0.0    ...       0.154300   0.000000   \n",
       "3  0.021484  0.019531  0.023438      0.0    ...       0.000000   0.000977   \n",
       "4  0.013672  0.015625  0.005859      0.0    ...       0.096680   0.000000   \n",
       "\n",
       "   texture57  texture58  texture59  texture60  texture61  texture62  \\\n",
       "0   0.002930   0.002930   0.035156        0.0        0.0   0.004883   \n",
       "1   0.000000   0.000977   0.023438        0.0        0.0   0.000977   \n",
       "2   0.005859   0.000977   0.007812        0.0        0.0   0.000000   \n",
       "3   0.000000   0.000000   0.020508        0.0        0.0   0.017578   \n",
       "4   0.021484   0.000000   0.000000        0.0        0.0   0.000000   \n",
       "\n",
       "   texture63  texture64  \n",
       "0   0.000000   0.025391  \n",
       "1   0.039062   0.022461  \n",
       "2   0.020508   0.002930  \n",
       "3   0.000000   0.047852  \n",
       "4   0.000000   0.031250  \n",
       "\n",
       "[5 rows x 194 columns]"
      ]
     },
     "execution_count": 19,
     "metadata": {},
     "output_type": "execute_result"
    }
   ],
   "source": [
    "train_df.head(5)"
   ]
  },
  {
   "cell_type": "code",
   "execution_count": 20,
   "metadata": {
    "collapsed": false
   },
   "outputs": [],
   "source": [
    "test_id = test_df.id.values"
   ]
  },
  {
   "cell_type": "code",
   "execution_count": 21,
   "metadata": {
    "collapsed": false
   },
   "outputs": [],
   "source": [
    "train_id = train_df.id.values"
   ]
  },
  {
   "cell_type": "code",
   "execution_count": 22,
   "metadata": {
    "collapsed": true
   },
   "outputs": [],
   "source": [
    "train_images = {}\n",
    "train_labels = {}\n",
    "test_images = {}"
   ]
  },
  {
   "cell_type": "code",
   "execution_count": 23,
   "metadata": {
    "collapsed": false
   },
   "outputs": [],
   "source": [
    "for key in image_dict:\n",
    "    if int(key) in train_id:\n",
    "        train_images[key] = image_dict[key][3]\n",
    "        train_labels[key] = train_df['species'].loc[train_df['id'] == int(key)].values\n",
    "    if int(key) in test_id:\n",
    "        test_images[key] = image_dict[key][3]\n",
    "        "
   ]
  },
  {
   "cell_type": "code",
   "execution_count": 24,
   "metadata": {
    "collapsed": false
   },
   "outputs": [],
   "source": [
    "# have to create a numeric key for each label, starting with 0\n",
    "labels  = list(set(train_df['species']))\n",
    "labels.sort(reverse=False)\n",
    "labels_num_list = []\n",
    "for i,l in enumerate(labels):\n",
    "    labels_num_list.append(i)"
   ]
  },
  {
   "cell_type": "code",
   "execution_count": 25,
   "metadata": {
    "collapsed": false
   },
   "outputs": [],
   "source": [
    "labels_dict = {}\n",
    "for i,l in enumerate(labels):\n",
    "    labels_dict[l] = labels_num_list[i] "
   ]
  },
  {
   "cell_type": "code",
   "execution_count": 26,
   "metadata": {
    "collapsed": false
   },
   "outputs": [],
   "source": [
    "train_labels_num_dict = {}"
   ]
  },
  {
   "cell_type": "code",
   "execution_count": 27,
   "metadata": {
    "collapsed": false
   },
   "outputs": [],
   "source": [
    "for key in train_labels:\n",
    "    leaf_name = train_labels[key][0]\n",
    "    train_labels_num_dict[key] = labels_dict[leaf_name]"
   ]
  },
  {
   "cell_type": "markdown",
   "metadata": {},
   "source": [
    "# CNNs"
   ]
  },
  {
   "cell_type": "code",
   "execution_count": 28,
   "metadata": {
    "collapsed": true
   },
   "outputs": [],
   "source": [
    "input_layer = Input(shape=(image_size,image_size,1))"
   ]
  },
  {
   "cell_type": "raw",
   "metadata": {
    "collapsed": true
   },
   "source": [
    "pipe = Convolution2D(16,5,5,\n",
    "                     init='normal',\n",
    "                     border_mode='same',\n",
    "                     W_regularizer='l1')(input_layer)\n",
    "pipe = MaxPooling2D(pool_size=(2,2))(pipe)\n",
    "pipe = Dropout(0.5)(pipe)\n",
    "pipe = Activation('relu')(pipe)\n",
    "pipe = Convolution2D(16,5,5,\n",
    "                     init='normal',\n",
    "                     border_mode='same',\n",
    "                     W_regularizer='l1')(pipe)\n",
    "pipe = MaxPooling2D(pool_size=(2,2))(pipe)\n",
    "pipe = Dropout(0.5)(pipe)\n",
    "pipe = Activation('relu')(pipe)\n",
    "pipe = Convolution2D(16,5,5,\n",
    "                     init='normal',\n",
    "                     border_mode='same',\n",
    "                     W_regularizer='l1')(pipe)\n",
    "pipe = MaxPooling2D(pool_size=(2,2))(pipe)\n",
    "pipe = Dropout(0.5)(pipe)\n",
    "pipe = Activation('relu')(pipe)\n",
    "pipe = Convolution2D(16,5,5,\n",
    "                     init='normal',\n",
    "                     border_mode='same',\n",
    "                     W_regularizer='l1')(pipe)\n",
    "pipe = MaxPooling2D(pool_size=(2,2))(pipe)\n",
    "pipe = Dropout(0.5)(pipe)\n",
    "pipe = Activation('relu')(pipe)\n",
    "pipe = Convolution2D(16,5,5,\n",
    "                     init='normal',\n",
    "                     border_mode='same',\n",
    "                     W_regularizer='l1')(pipe)\n",
    "pipe = MaxPooling2D(pool_size=(2,2))(pipe)\n",
    "pipe = Dropout(0.5)(pipe)\n",
    "pipe = Activation('relu')(pipe)\n",
    "pipe = Convolution2D(16,5,5,\n",
    "                     init='normal',\n",
    "                     border_mode='same',\n",
    "                     W_regularizer='l1')(pipe)\n",
    "pipe = MaxPooling2D(pool_size=(2,2))(pipe)\n",
    "pipe = Dropout(0.5)(pipe)\n",
    "pipe = Activation('relu')(pipe)\n",
    "pipe = Dense(64)(pipe)\n",
    "\n",
    "\n",
    "convolution_output = Flatten()(pipe)\n",
    "\n",
    "\n",
    "output_layer = [Dense(99,activation='softmax', name = 'leaf_type')(convolution_output)]\n",
    "\n"
   ]
  },
  {
   "cell_type": "code",
   "execution_count": 212,
   "metadata": {
    "collapsed": true
   },
   "outputs": [],
   "source": [
    "#first convolutional Layer\n",
    "pipe = Convolution2D(8, 5, 5, border_mode='same')(input_layer)\n",
    "pipe = (Activation('relu'))(pipe)\n",
    "pipe = (MaxPooling2D(pool_size=(2, 2), strides=(2, 2)))(pipe)\n",
    "#pipe = Dense(100,activation='relu')(pipe)\n",
    "#pipe = Dropout(.5)(pipe)\n",
    "\n",
    "#second\n",
    "pipe = (Convolution2D(16, 5, 5, border_mode='same'))(pipe)\n",
    "pipe = (Activation('relu'))(pipe)\n",
    "pipe = (MaxPooling2D(pool_size=(2, 2), strides=(2, 2)))(pipe)\n",
    "#pipe = Dense(100,activation='relu')(pipe)\n",
    "\n",
    "#third\n",
    "pipe = (Convolution2D(32, 5, 5, border_mode='same'))(pipe)\n",
    "pipe = (Activation('relu'))(pipe)\n",
    "pipe = (MaxPooling2D(pool_size=(2, 2), strides=(2, 2)))(pipe)\n",
    "\n",
    "#fourth\n",
    "pipe = (Convolution2D(64, 5, 5, border_mode='same'))(pipe)\n",
    "pipe = (Activation('relu'))(pipe)\n",
    "pipe = (MaxPooling2D(pool_size=(2, 2), strides=(2, 2)))(pipe)\n",
    "\n",
    "#fifth \n",
    "pipe = (Convolution2D(128, 5, 5, border_mode='same'))(pipe)\n",
    "pipe = (Activation('relu'))(pipe)\n",
    "pipe = (MaxPooling2D(pool_size=(2, 2), strides=(2, 2)))(pipe)\n",
    "\n",
    "pipe = Dropout(.5)(pipe)\n",
    "\n",
    "\n",
    "#Flatten\n",
    "convolution_output = Flatten()(pipe)\n",
    "#convolution_output = Dense(100, activation='relu')(convolution_output)\n",
    "#convolution_output= Dropout(.5)(convolution_output)\n",
    "\n",
    "output_layer = [Dense(99,activation='softmax')(convolution_output)]"
   ]
  },
  {
   "cell_type": "code",
   "execution_count": 213,
   "metadata": {
    "collapsed": true
   },
   "outputs": [],
   "source": [
    "sgd = SGD(lr=0.0001, momentum=0.9,decay=0.0,nesterov=False)"
   ]
  },
  {
   "cell_type": "code",
   "execution_count": 214,
   "metadata": {
    "collapsed": false
   },
   "outputs": [],
   "source": [
    "model = Model(input_layer,output_layer)"
   ]
  },
  {
   "cell_type": "code",
   "execution_count": 215,
   "metadata": {
    "collapsed": false
   },
   "outputs": [],
   "source": [
    "model.compile(optimizer=sgd,loss='categorical_crossentropy',\n",
    "              metrics=['accuracy'])"
   ]
  },
  {
   "cell_type": "code",
   "execution_count": 216,
   "metadata": {
    "collapsed": true
   },
   "outputs": [],
   "source": [
    "image_size0 = max_0 #standardized\n",
    "image_size1 = max_1 #standardized\n",
    "num_channels = 1 #grey_scale\n",
    "num_labels = len(labels_dict)\n",
    "\n",
    "def reformat(dataset, labels):\n",
    "  dataset = dataset.reshape(\n",
    "    (-1, image_size, image_size, num_channels)).astype(np.float32)\n",
    "  labels = (np.arange(num_labels) == labels[:,None]).astype(np.float32)\n",
    "  return dataset, labels"
   ]
  },
  {
   "cell_type": "code",
   "execution_count": 217,
   "metadata": {
    "collapsed": true
   },
   "outputs": [],
   "source": [
    "train_dataset,train_labels = reformat(np.array(train_images.values()),np.array(train_labels_num_dict.values()))"
   ]
  },
  {
   "cell_type": "code",
   "execution_count": 220,
   "metadata": {
    "collapsed": false
   },
   "outputs": [
    {
     "name": "stdout",
     "output_type": "stream",
     "text": [
      "Train on 792 samples, validate on 198 samples\n",
      "Epoch 1/1\n",
      "792/792 [==============================] - 2s - loss: 4.5282 - acc: 0.0202 - val_loss: 4.6384 - val_acc: 0.0051\n"
     ]
    }
   ],
   "source": [
    "history = model.fit(train_dataset,train_labels,\n",
    "                    batch_size = 792,\n",
    "                    nb_epoch=1,\n",
    "                    validation_split=0.20)"
   ]
  },
  {
   "cell_type": "code",
   "execution_count": 221,
   "metadata": {
    "collapsed": true
   },
   "outputs": [],
   "source": [
    "#history.model.save('CNN_leaf_3.h5')"
   ]
  },
  {
   "cell_type": "code",
   "execution_count": 222,
   "metadata": {
    "collapsed": false
   },
   "outputs": [
    {
     "name": "stdout",
     "output_type": "stream",
     "text": [
      "____________________________________________________________________________________________________\n",
      "Layer (type)                     Output Shape          Param #     Connected to                     \n",
      "====================================================================================================\n",
      "input_1 (InputLayer)             (None, 64, 64, 1)     0                                            \n",
      "____________________________________________________________________________________________________\n",
      "convolution2d_34 (Convolution2D) (None, 64, 64, 8)     208         input_1[0][0]                    \n",
      "____________________________________________________________________________________________________\n",
      "activation_34 (Activation)       (None, 64, 64, 8)     0           convolution2d_34[0][0]           \n",
      "____________________________________________________________________________________________________\n",
      "maxpooling2d_34 (MaxPooling2D)   (None, 32, 32, 8)     0           activation_34[0][0]              \n",
      "____________________________________________________________________________________________________\n",
      "convolution2d_35 (Convolution2D) (None, 32, 32, 16)    3216        maxpooling2d_34[0][0]            \n",
      "____________________________________________________________________________________________________\n",
      "activation_35 (Activation)       (None, 32, 32, 16)    0           convolution2d_35[0][0]           \n",
      "____________________________________________________________________________________________________\n",
      "maxpooling2d_35 (MaxPooling2D)   (None, 16, 16, 16)    0           activation_35[0][0]              \n",
      "____________________________________________________________________________________________________\n",
      "convolution2d_36 (Convolution2D) (None, 16, 16, 32)    12832       maxpooling2d_35[0][0]            \n",
      "____________________________________________________________________________________________________\n",
      "activation_36 (Activation)       (None, 16, 16, 32)    0           convolution2d_36[0][0]           \n",
      "____________________________________________________________________________________________________\n",
      "maxpooling2d_36 (MaxPooling2D)   (None, 8, 8, 32)      0           activation_36[0][0]              \n",
      "____________________________________________________________________________________________________\n",
      "convolution2d_37 (Convolution2D) (None, 8, 8, 64)      51264       maxpooling2d_36[0][0]            \n",
      "____________________________________________________________________________________________________\n",
      "activation_37 (Activation)       (None, 8, 8, 64)      0           convolution2d_37[0][0]           \n",
      "____________________________________________________________________________________________________\n",
      "maxpooling2d_37 (MaxPooling2D)   (None, 4, 4, 64)      0           activation_37[0][0]              \n",
      "____________________________________________________________________________________________________\n",
      "convolution2d_38 (Convolution2D) (None, 4, 4, 128)     204928      maxpooling2d_37[0][0]            \n",
      "____________________________________________________________________________________________________\n",
      "activation_38 (Activation)       (None, 4, 4, 128)     0           convolution2d_38[0][0]           \n",
      "____________________________________________________________________________________________________\n",
      "maxpooling2d_38 (MaxPooling2D)   (None, 2, 2, 128)     0           activation_38[0][0]              \n",
      "____________________________________________________________________________________________________\n",
      "dropout_24 (Dropout)             (None, 2, 2, 128)     0           maxpooling2d_38[0][0]            \n",
      "____________________________________________________________________________________________________\n",
      "flatten_14 (Flatten)             (None, 512)           0           dropout_24[0][0]                 \n",
      "____________________________________________________________________________________________________\n",
      "dense_34 (Dense)                 (None, 99)            50787       flatten_14[0][0]                 \n",
      "====================================================================================================\n",
      "Total params: 323,235\n",
      "Trainable params: 323,235\n",
      "Non-trainable params: 0\n",
      "____________________________________________________________________________________________________\n"
     ]
    }
   ],
   "source": [
    "history.model.summary()"
   ]
  },
  {
   "cell_type": "code",
   "execution_count": null,
   "metadata": {
    "collapsed": true
   },
   "outputs": [],
   "source": []
  },
  {
   "cell_type": "code",
   "execution_count": null,
   "metadata": {
    "collapsed": true
   },
   "outputs": [],
   "source": []
  },
  {
   "cell_type": "code",
   "execution_count": null,
   "metadata": {
    "collapsed": true
   },
   "outputs": [],
   "source": []
  },
  {
   "cell_type": "code",
   "execution_count": null,
   "metadata": {
    "collapsed": true
   },
   "outputs": [],
   "source": []
  },
  {
   "cell_type": "code",
   "execution_count": null,
   "metadata": {
    "collapsed": true
   },
   "outputs": [],
   "source": []
  },
  {
   "cell_type": "code",
   "execution_count": 223,
   "metadata": {
    "collapsed": false
   },
   "outputs": [],
   "source": [
    "def reformat(dataset):\n",
    "    dataset = dataset.reshape(\n",
    "        (-1, image_size, image_size, num_channels)).astype(np.float32)\n",
    "    return dataset\n"
   ]
  },
  {
   "cell_type": "code",
   "execution_count": 224,
   "metadata": {
    "collapsed": false
   },
   "outputs": [],
   "source": [
    "test_data = reformat(np.array(test_images.values()))"
   ]
  },
  {
   "cell_type": "code",
   "execution_count": 225,
   "metadata": {
    "collapsed": false
   },
   "outputs": [],
   "source": [
    "results = history.model.predict(test_data)"
   ]
  },
  {
   "cell_type": "code",
   "execution_count": 226,
   "metadata": {
    "collapsed": false
   },
   "outputs": [],
   "source": [
    "results_df = pd.DataFrame(results,columns = labels_dict.keys(),index=test_images.keys())"
   ]
  },
  {
   "cell_type": "code",
   "execution_count": 227,
   "metadata": {
    "collapsed": false
   },
   "outputs": [],
   "source": [
    "results_df = results_df.sort_index(axis=1)"
   ]
  },
  {
   "cell_type": "code",
   "execution_count": 228,
   "metadata": {
    "collapsed": false
   },
   "outputs": [
    {
     "data": {
      "text/html": [
       "<div>\n",
       "<table border=\"1\" class=\"dataframe\">\n",
       "  <thead>\n",
       "    <tr style=\"text-align: right;\">\n",
       "      <th></th>\n",
       "      <th>Acer_Capillipes</th>\n",
       "      <th>Acer_Circinatum</th>\n",
       "      <th>Acer_Mono</th>\n",
       "      <th>Acer_Opalus</th>\n",
       "      <th>Acer_Palmatum</th>\n",
       "      <th>Acer_Pictum</th>\n",
       "      <th>Acer_Platanoids</th>\n",
       "      <th>Acer_Rubrum</th>\n",
       "      <th>Acer_Rufinerve</th>\n",
       "      <th>Acer_Saccharinum</th>\n",
       "      <th>...</th>\n",
       "      <th>Salix_Fragilis</th>\n",
       "      <th>Salix_Intergra</th>\n",
       "      <th>Sorbus_Aria</th>\n",
       "      <th>Tilia_Oliveri</th>\n",
       "      <th>Tilia_Platyphyllos</th>\n",
       "      <th>Tilia_Tomentosa</th>\n",
       "      <th>Ulmus_Bergmanniana</th>\n",
       "      <th>Viburnum_Tinus</th>\n",
       "      <th>Viburnum_x_Rhytidophylloides</th>\n",
       "      <th>Zelkova_Serrata</th>\n",
       "    </tr>\n",
       "  </thead>\n",
       "  <tbody>\n",
       "    <tr>\n",
       "      <th>818</th>\n",
       "      <td>0.010261</td>\n",
       "      <td>0.008475</td>\n",
       "      <td>0.010708</td>\n",
       "      <td>0.008559</td>\n",
       "      <td>0.011438</td>\n",
       "      <td>0.010487</td>\n",
       "      <td>0.009136</td>\n",
       "      <td>0.005963</td>\n",
       "      <td>0.009367</td>\n",
       "      <td>0.015052</td>\n",
       "      <td>...</td>\n",
       "      <td>0.013108</td>\n",
       "      <td>0.010832</td>\n",
       "      <td>0.009226</td>\n",
       "      <td>0.007644</td>\n",
       "      <td>0.007121</td>\n",
       "      <td>0.011234</td>\n",
       "      <td>0.010236</td>\n",
       "      <td>0.012196</td>\n",
       "      <td>0.009163</td>\n",
       "      <td>0.007499</td>\n",
       "    </tr>\n",
       "    <tr>\n",
       "      <th>819</th>\n",
       "      <td>0.006684</td>\n",
       "      <td>0.008829</td>\n",
       "      <td>0.008278</td>\n",
       "      <td>0.010025</td>\n",
       "      <td>0.011113</td>\n",
       "      <td>0.011679</td>\n",
       "      <td>0.010671</td>\n",
       "      <td>0.009016</td>\n",
       "      <td>0.007853</td>\n",
       "      <td>0.009072</td>\n",
       "      <td>...</td>\n",
       "      <td>0.010006</td>\n",
       "      <td>0.011610</td>\n",
       "      <td>0.009878</td>\n",
       "      <td>0.011119</td>\n",
       "      <td>0.008578</td>\n",
       "      <td>0.010646</td>\n",
       "      <td>0.009127</td>\n",
       "      <td>0.012553</td>\n",
       "      <td>0.009783</td>\n",
       "      <td>0.010621</td>\n",
       "    </tr>\n",
       "    <tr>\n",
       "      <th>346</th>\n",
       "      <td>0.011191</td>\n",
       "      <td>0.008178</td>\n",
       "      <td>0.011897</td>\n",
       "      <td>0.008357</td>\n",
       "      <td>0.008940</td>\n",
       "      <td>0.006657</td>\n",
       "      <td>0.013502</td>\n",
       "      <td>0.006194</td>\n",
       "      <td>0.008109</td>\n",
       "      <td>0.013950</td>\n",
       "      <td>...</td>\n",
       "      <td>0.010203</td>\n",
       "      <td>0.007768</td>\n",
       "      <td>0.007187</td>\n",
       "      <td>0.010963</td>\n",
       "      <td>0.008950</td>\n",
       "      <td>0.009997</td>\n",
       "      <td>0.011996</td>\n",
       "      <td>0.011829</td>\n",
       "      <td>0.009274</td>\n",
       "      <td>0.010460</td>\n",
       "    </tr>\n",
       "    <tr>\n",
       "      <th>347</th>\n",
       "      <td>0.007866</td>\n",
       "      <td>0.009331</td>\n",
       "      <td>0.010059</td>\n",
       "      <td>0.011954</td>\n",
       "      <td>0.010973</td>\n",
       "      <td>0.011274</td>\n",
       "      <td>0.012190</td>\n",
       "      <td>0.010659</td>\n",
       "      <td>0.009496</td>\n",
       "      <td>0.010310</td>\n",
       "      <td>...</td>\n",
       "      <td>0.012336</td>\n",
       "      <td>0.008069</td>\n",
       "      <td>0.008001</td>\n",
       "      <td>0.010994</td>\n",
       "      <td>0.011798</td>\n",
       "      <td>0.009562</td>\n",
       "      <td>0.011108</td>\n",
       "      <td>0.012699</td>\n",
       "      <td>0.010698</td>\n",
       "      <td>0.008331</td>\n",
       "    </tr>\n",
       "    <tr>\n",
       "      <th>343</th>\n",
       "      <td>0.010117</td>\n",
       "      <td>0.007148</td>\n",
       "      <td>0.007869</td>\n",
       "      <td>0.011182</td>\n",
       "      <td>0.009341</td>\n",
       "      <td>0.008411</td>\n",
       "      <td>0.009227</td>\n",
       "      <td>0.009106</td>\n",
       "      <td>0.010544</td>\n",
       "      <td>0.013544</td>\n",
       "      <td>...</td>\n",
       "      <td>0.012695</td>\n",
       "      <td>0.009883</td>\n",
       "      <td>0.010408</td>\n",
       "      <td>0.010740</td>\n",
       "      <td>0.007542</td>\n",
       "      <td>0.009280</td>\n",
       "      <td>0.007973</td>\n",
       "      <td>0.016363</td>\n",
       "      <td>0.007502</td>\n",
       "      <td>0.010704</td>\n",
       "    </tr>\n",
       "  </tbody>\n",
       "</table>\n",
       "<p>5 rows × 99 columns</p>\n",
       "</div>"
      ],
      "text/plain": [
       "     Acer_Capillipes  Acer_Circinatum  Acer_Mono  Acer_Opalus  Acer_Palmatum  \\\n",
       "818         0.010261         0.008475   0.010708     0.008559       0.011438   \n",
       "819         0.006684         0.008829   0.008278     0.010025       0.011113   \n",
       "346         0.011191         0.008178   0.011897     0.008357       0.008940   \n",
       "347         0.007866         0.009331   0.010059     0.011954       0.010973   \n",
       "343         0.010117         0.007148   0.007869     0.011182       0.009341   \n",
       "\n",
       "     Acer_Pictum  Acer_Platanoids  Acer_Rubrum  Acer_Rufinerve  \\\n",
       "818     0.010487         0.009136     0.005963        0.009367   \n",
       "819     0.011679         0.010671     0.009016        0.007853   \n",
       "346     0.006657         0.013502     0.006194        0.008109   \n",
       "347     0.011274         0.012190     0.010659        0.009496   \n",
       "343     0.008411         0.009227     0.009106        0.010544   \n",
       "\n",
       "     Acer_Saccharinum       ...         Salix_Fragilis  Salix_Intergra  \\\n",
       "818          0.015052       ...               0.013108        0.010832   \n",
       "819          0.009072       ...               0.010006        0.011610   \n",
       "346          0.013950       ...               0.010203        0.007768   \n",
       "347          0.010310       ...               0.012336        0.008069   \n",
       "343          0.013544       ...               0.012695        0.009883   \n",
       "\n",
       "     Sorbus_Aria  Tilia_Oliveri  Tilia_Platyphyllos  Tilia_Tomentosa  \\\n",
       "818     0.009226       0.007644            0.007121         0.011234   \n",
       "819     0.009878       0.011119            0.008578         0.010646   \n",
       "346     0.007187       0.010963            0.008950         0.009997   \n",
       "347     0.008001       0.010994            0.011798         0.009562   \n",
       "343     0.010408       0.010740            0.007542         0.009280   \n",
       "\n",
       "     Ulmus_Bergmanniana  Viburnum_Tinus  Viburnum_x_Rhytidophylloides  \\\n",
       "818            0.010236        0.012196                      0.009163   \n",
       "819            0.009127        0.012553                      0.009783   \n",
       "346            0.011996        0.011829                      0.009274   \n",
       "347            0.011108        0.012699                      0.010698   \n",
       "343            0.007973        0.016363                      0.007502   \n",
       "\n",
       "     Zelkova_Serrata  \n",
       "818         0.007499  \n",
       "819         0.010621  \n",
       "346         0.010460  \n",
       "347         0.008331  \n",
       "343         0.010704  \n",
       "\n",
       "[5 rows x 99 columns]"
      ]
     },
     "execution_count": 228,
     "metadata": {},
     "output_type": "execute_result"
    }
   ],
   "source": [
    "results_df.head()"
   ]
  },
  {
   "cell_type": "code",
   "execution_count": 229,
   "metadata": {
    "collapsed": true
   },
   "outputs": [],
   "source": [
    "results_df.index.name = 'ID'"
   ]
  },
  {
   "cell_type": "code",
   "execution_count": 230,
   "metadata": {
    "collapsed": false
   },
   "outputs": [
    {
     "data": {
      "text/html": [
       "<div>\n",
       "<table border=\"1\" class=\"dataframe\">\n",
       "  <thead>\n",
       "    <tr style=\"text-align: right;\">\n",
       "      <th></th>\n",
       "      <th>Acer_Capillipes</th>\n",
       "      <th>Acer_Circinatum</th>\n",
       "      <th>Acer_Mono</th>\n",
       "      <th>Acer_Opalus</th>\n",
       "      <th>Acer_Palmatum</th>\n",
       "      <th>Acer_Pictum</th>\n",
       "      <th>Acer_Platanoids</th>\n",
       "      <th>Acer_Rubrum</th>\n",
       "      <th>Acer_Rufinerve</th>\n",
       "      <th>Acer_Saccharinum</th>\n",
       "      <th>...</th>\n",
       "      <th>Salix_Fragilis</th>\n",
       "      <th>Salix_Intergra</th>\n",
       "      <th>Sorbus_Aria</th>\n",
       "      <th>Tilia_Oliveri</th>\n",
       "      <th>Tilia_Platyphyllos</th>\n",
       "      <th>Tilia_Tomentosa</th>\n",
       "      <th>Ulmus_Bergmanniana</th>\n",
       "      <th>Viburnum_Tinus</th>\n",
       "      <th>Viburnum_x_Rhytidophylloides</th>\n",
       "      <th>Zelkova_Serrata</th>\n",
       "    </tr>\n",
       "    <tr>\n",
       "      <th>ID</th>\n",
       "      <th></th>\n",
       "      <th></th>\n",
       "      <th></th>\n",
       "      <th></th>\n",
       "      <th></th>\n",
       "      <th></th>\n",
       "      <th></th>\n",
       "      <th></th>\n",
       "      <th></th>\n",
       "      <th></th>\n",
       "      <th></th>\n",
       "      <th></th>\n",
       "      <th></th>\n",
       "      <th></th>\n",
       "      <th></th>\n",
       "      <th></th>\n",
       "      <th></th>\n",
       "      <th></th>\n",
       "      <th></th>\n",
       "      <th></th>\n",
       "      <th></th>\n",
       "    </tr>\n",
       "  </thead>\n",
       "  <tbody>\n",
       "    <tr>\n",
       "      <th>818</th>\n",
       "      <td>0.010261</td>\n",
       "      <td>0.008475</td>\n",
       "      <td>0.010708</td>\n",
       "      <td>0.008559</td>\n",
       "      <td>0.011438</td>\n",
       "      <td>0.010487</td>\n",
       "      <td>0.009136</td>\n",
       "      <td>0.005963</td>\n",
       "      <td>0.009367</td>\n",
       "      <td>0.015052</td>\n",
       "      <td>...</td>\n",
       "      <td>0.013108</td>\n",
       "      <td>0.010832</td>\n",
       "      <td>0.009226</td>\n",
       "      <td>0.007644</td>\n",
       "      <td>0.007121</td>\n",
       "      <td>0.011234</td>\n",
       "      <td>0.010236</td>\n",
       "      <td>0.012196</td>\n",
       "      <td>0.009163</td>\n",
       "      <td>0.007499</td>\n",
       "    </tr>\n",
       "    <tr>\n",
       "      <th>819</th>\n",
       "      <td>0.006684</td>\n",
       "      <td>0.008829</td>\n",
       "      <td>0.008278</td>\n",
       "      <td>0.010025</td>\n",
       "      <td>0.011113</td>\n",
       "      <td>0.011679</td>\n",
       "      <td>0.010671</td>\n",
       "      <td>0.009016</td>\n",
       "      <td>0.007853</td>\n",
       "      <td>0.009072</td>\n",
       "      <td>...</td>\n",
       "      <td>0.010006</td>\n",
       "      <td>0.011610</td>\n",
       "      <td>0.009878</td>\n",
       "      <td>0.011119</td>\n",
       "      <td>0.008578</td>\n",
       "      <td>0.010646</td>\n",
       "      <td>0.009127</td>\n",
       "      <td>0.012553</td>\n",
       "      <td>0.009783</td>\n",
       "      <td>0.010621</td>\n",
       "    </tr>\n",
       "    <tr>\n",
       "      <th>346</th>\n",
       "      <td>0.011191</td>\n",
       "      <td>0.008178</td>\n",
       "      <td>0.011897</td>\n",
       "      <td>0.008357</td>\n",
       "      <td>0.008940</td>\n",
       "      <td>0.006657</td>\n",
       "      <td>0.013502</td>\n",
       "      <td>0.006194</td>\n",
       "      <td>0.008109</td>\n",
       "      <td>0.013950</td>\n",
       "      <td>...</td>\n",
       "      <td>0.010203</td>\n",
       "      <td>0.007768</td>\n",
       "      <td>0.007187</td>\n",
       "      <td>0.010963</td>\n",
       "      <td>0.008950</td>\n",
       "      <td>0.009997</td>\n",
       "      <td>0.011996</td>\n",
       "      <td>0.011829</td>\n",
       "      <td>0.009274</td>\n",
       "      <td>0.010460</td>\n",
       "    </tr>\n",
       "    <tr>\n",
       "      <th>347</th>\n",
       "      <td>0.007866</td>\n",
       "      <td>0.009331</td>\n",
       "      <td>0.010059</td>\n",
       "      <td>0.011954</td>\n",
       "      <td>0.010973</td>\n",
       "      <td>0.011274</td>\n",
       "      <td>0.012190</td>\n",
       "      <td>0.010659</td>\n",
       "      <td>0.009496</td>\n",
       "      <td>0.010310</td>\n",
       "      <td>...</td>\n",
       "      <td>0.012336</td>\n",
       "      <td>0.008069</td>\n",
       "      <td>0.008001</td>\n",
       "      <td>0.010994</td>\n",
       "      <td>0.011798</td>\n",
       "      <td>0.009562</td>\n",
       "      <td>0.011108</td>\n",
       "      <td>0.012699</td>\n",
       "      <td>0.010698</td>\n",
       "      <td>0.008331</td>\n",
       "    </tr>\n",
       "    <tr>\n",
       "      <th>343</th>\n",
       "      <td>0.010117</td>\n",
       "      <td>0.007148</td>\n",
       "      <td>0.007869</td>\n",
       "      <td>0.011182</td>\n",
       "      <td>0.009341</td>\n",
       "      <td>0.008411</td>\n",
       "      <td>0.009227</td>\n",
       "      <td>0.009106</td>\n",
       "      <td>0.010544</td>\n",
       "      <td>0.013544</td>\n",
       "      <td>...</td>\n",
       "      <td>0.012695</td>\n",
       "      <td>0.009883</td>\n",
       "      <td>0.010408</td>\n",
       "      <td>0.010740</td>\n",
       "      <td>0.007542</td>\n",
       "      <td>0.009280</td>\n",
       "      <td>0.007973</td>\n",
       "      <td>0.016363</td>\n",
       "      <td>0.007502</td>\n",
       "      <td>0.010704</td>\n",
       "    </tr>\n",
       "  </tbody>\n",
       "</table>\n",
       "<p>5 rows × 99 columns</p>\n",
       "</div>"
      ],
      "text/plain": [
       "     Acer_Capillipes  Acer_Circinatum  Acer_Mono  Acer_Opalus  Acer_Palmatum  \\\n",
       "ID                                                                             \n",
       "818         0.010261         0.008475   0.010708     0.008559       0.011438   \n",
       "819         0.006684         0.008829   0.008278     0.010025       0.011113   \n",
       "346         0.011191         0.008178   0.011897     0.008357       0.008940   \n",
       "347         0.007866         0.009331   0.010059     0.011954       0.010973   \n",
       "343         0.010117         0.007148   0.007869     0.011182       0.009341   \n",
       "\n",
       "     Acer_Pictum  Acer_Platanoids  Acer_Rubrum  Acer_Rufinerve  \\\n",
       "ID                                                               \n",
       "818     0.010487         0.009136     0.005963        0.009367   \n",
       "819     0.011679         0.010671     0.009016        0.007853   \n",
       "346     0.006657         0.013502     0.006194        0.008109   \n",
       "347     0.011274         0.012190     0.010659        0.009496   \n",
       "343     0.008411         0.009227     0.009106        0.010544   \n",
       "\n",
       "     Acer_Saccharinum       ...         Salix_Fragilis  Salix_Intergra  \\\n",
       "ID                          ...                                          \n",
       "818          0.015052       ...               0.013108        0.010832   \n",
       "819          0.009072       ...               0.010006        0.011610   \n",
       "346          0.013950       ...               0.010203        0.007768   \n",
       "347          0.010310       ...               0.012336        0.008069   \n",
       "343          0.013544       ...               0.012695        0.009883   \n",
       "\n",
       "     Sorbus_Aria  Tilia_Oliveri  Tilia_Platyphyllos  Tilia_Tomentosa  \\\n",
       "ID                                                                     \n",
       "818     0.009226       0.007644            0.007121         0.011234   \n",
       "819     0.009878       0.011119            0.008578         0.010646   \n",
       "346     0.007187       0.010963            0.008950         0.009997   \n",
       "347     0.008001       0.010994            0.011798         0.009562   \n",
       "343     0.010408       0.010740            0.007542         0.009280   \n",
       "\n",
       "     Ulmus_Bergmanniana  Viburnum_Tinus  Viburnum_x_Rhytidophylloides  \\\n",
       "ID                                                                      \n",
       "818            0.010236        0.012196                      0.009163   \n",
       "819            0.009127        0.012553                      0.009783   \n",
       "346            0.011996        0.011829                      0.009274   \n",
       "347            0.011108        0.012699                      0.010698   \n",
       "343            0.007973        0.016363                      0.007502   \n",
       "\n",
       "     Zelkova_Serrata  \n",
       "ID                    \n",
       "818         0.007499  \n",
       "819         0.010621  \n",
       "346         0.010460  \n",
       "347         0.008331  \n",
       "343         0.010704  \n",
       "\n",
       "[5 rows x 99 columns]"
      ]
     },
     "execution_count": 230,
     "metadata": {},
     "output_type": "execute_result"
    }
   ],
   "source": [
    "results_df.head()"
   ]
  },
  {
   "cell_type": "code",
   "execution_count": 231,
   "metadata": {
    "collapsed": false
   },
   "outputs": [],
   "source": [
    "results_df.set_index(results_df.index.astype(int),inplace=True)"
   ]
  },
  {
   "cell_type": "code",
   "execution_count": 232,
   "metadata": {
    "collapsed": false
   },
   "outputs": [],
   "source": [
    "results_df.sort_index(axis=0,ascending=True,inplace=True)"
   ]
  },
  {
   "cell_type": "code",
   "execution_count": 233,
   "metadata": {
    "collapsed": false
   },
   "outputs": [],
   "source": [
    "results_df.to_csv('submit.csv')"
   ]
  },
  {
   "cell_type": "code",
   "execution_count": null,
   "metadata": {
    "collapsed": true
   },
   "outputs": [],
   "source": []
  }
 ],
 "metadata": {
  "anaconda-cloud": {},
  "kernelspec": {
   "display_name": "Python [conda root]",
   "language": "python",
   "name": "conda-root-py"
  },
  "language_info": {
   "codemirror_mode": {
    "name": "ipython",
    "version": 2
   },
   "file_extension": ".py",
   "mimetype": "text/x-python",
   "name": "python",
   "nbconvert_exporter": "python",
   "pygments_lexer": "ipython2",
   "version": "2.7.12"
  }
 },
 "nbformat": 4,
 "nbformat_minor": 1
}
