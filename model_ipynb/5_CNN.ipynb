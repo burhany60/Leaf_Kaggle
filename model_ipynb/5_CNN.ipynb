{
 "cells": [
  {
   "cell_type": "markdown",
   "metadata": {},
   "source": [
    "# Five Convolution Notebook"
   ]
  },
  {
   "cell_type": "code",
   "execution_count": 1,
   "metadata": {
    "collapsed": false
   },
   "outputs": [],
   "source": [
    "import os\n",
    "os.chdir('/Users/Scott/Desktop/Capstone')"
   ]
  },
  {
   "cell_type": "code",
   "execution_count": 2,
   "metadata": {
    "collapsed": false
   },
   "outputs": [
    {
     "name": "stderr",
     "output_type": "stream",
     "text": [
      "Using TensorFlow backend.\n"
     ]
    }
   ],
   "source": [
    "from keras.layers import Input, Convolution2D, Dense, Activation, Flatten,merge\n",
    "from keras.layers import  MaxPooling2D, Dropout, LocallyConnected2D\n",
    "from keras.models import Model, load_model\n",
    "from keras.optimizers import SGD\n",
    "from lib.data_wrappers import load_train_data,load_test_data\n",
    "import numpy as np\n",
    "import pandas as pd"
   ]
  },
  {
   "cell_type": "code",
   "execution_count": 3,
   "metadata": {
    "collapsed": true
   },
   "outputs": [],
   "source": [
    "train,validation = load_train_data('train.csv')"
   ]
  },
  {
   "cell_type": "code",
   "execution_count": 4,
   "metadata": {
    "collapsed": true
   },
   "outputs": [],
   "source": [
    "test = load_test_data('test.csv')"
   ]
  },
  {
   "cell_type": "code",
   "execution_count": 5,
   "metadata": {
    "collapsed": true
   },
   "outputs": [],
   "source": [
    "train_labels = train[2][:]\n",
    "valid_labels = validation[2][:]"
   ]
  },
  {
   "cell_type": "code",
   "execution_count": 6,
   "metadata": {
    "collapsed": true
   },
   "outputs": [],
   "source": [
    "def reformat(labels):\n",
    "    labels = (np.arange(99) == labels[:,None]).astype(np.float32)\n",
    "    return labels\n",
    "train_labels = reformat(train_labels)\n",
    "valid_labels = reformat(valid_labels)\n"
   ]
  },
  {
   "cell_type": "code",
   "execution_count": 7,
   "metadata": {
    "collapsed": true
   },
   "outputs": [],
   "source": [
    "input_layer = Input(shape=(64,64,1))"
   ]
  },
  {
   "cell_type": "code",
   "execution_count": 8,
   "metadata": {
    "collapsed": false
   },
   "outputs": [],
   "source": [
    "#first\n",
    "pipe = Convolution2D(8, 5, 5, border_mode='same')(input_layer)\n",
    "pipe = (Activation('relu'))(pipe)\n",
    "pipe = (MaxPooling2D(pool_size=(2, 2), strides=(2, 2)))(pipe)\n",
    "\n",
    "#second\n",
    "pipe = Convolution2D(8, 5, 5, border_mode='same')(input_layer)\n",
    "pipe = (Activation('relu'))(pipe)\n",
    "pipe = (MaxPooling2D(pool_size=(2, 2), strides=(2, 2)))(pipe)\n",
    "\n",
    "#three\n",
    "pipe = Convolution2D(8, 5, 5, border_mode='same')(input_layer)\n",
    "pipe = (Activation('relu'))(pipe)\n",
    "pipe = (MaxPooling2D(pool_size=(2, 2), strides=(2, 2)))(pipe)\n",
    "\n",
    "#four\n",
    "pipe = Convolution2D(8, 5, 5, border_mode='same')(input_layer)\n",
    "pipe = (Activation('relu'))(pipe)\n",
    "pipe = (MaxPooling2D(pool_size=(2, 2), strides=(2, 2)))(pipe)\n",
    "\n",
    "#five\n",
    "pipe = Convolution2D(8, 5, 5, border_mode='same')(input_layer)\n",
    "pipe = (Activation('relu'))(pipe)\n",
    "pipe = (MaxPooling2D(pool_size=(2, 2), strides=(2, 2)))(pipe)\n",
    "\n",
    "#flatten\n",
    "pipe= Flatten()(pipe)\n",
    "\n",
    "#fully connected layer\n",
    "pipe = Dense(100, activation='relu')(pipe)\n",
    "pipe = Dropout(.5)(pipe)\n",
    "\n",
    "#output layer\n",
    "output_layer = Dense(99, activation='softmax')(pipe)"
   ]
  },
  {
   "cell_type": "code",
   "execution_count": 9,
   "metadata": {
    "collapsed": true
   },
   "outputs": [],
   "source": [
    "sgd = SGD(lr=0.008, momentum=0.9,decay=0.0,nesterov=False)"
   ]
  },
  {
   "cell_type": "code",
   "execution_count": 10,
   "metadata": {
    "collapsed": true
   },
   "outputs": [],
   "source": [
    "# for just image data\n",
    "model = Model(input=input_layer,output=output_layer)"
   ]
  },
  {
   "cell_type": "code",
   "execution_count": 11,
   "metadata": {
    "collapsed": true
   },
   "outputs": [],
   "source": [
    "model.compile(optimizer='Adam',loss='categorical_crossentropy',\n",
    "              metrics=['accuracy'])"
   ]
  },
  {
   "cell_type": "code",
   "execution_count": 14,
   "metadata": {
    "collapsed": false
   },
   "outputs": [
    {
     "name": "stdout",
     "output_type": "stream",
     "text": [
      "Train on 792 samples, validate on 99 samples\n",
      "Epoch 1/1\n",
      "792/792 [==============================] - 0s - loss: 0.0676 - acc: 0.9823 - val_loss: 1.8086 - val_acc: 0.6162\n"
     ]
    }
   ],
   "source": [
    "history = model.fit(train[1][:],train_labels,\n",
    "                   validation_data=(validation[1][:],valid_labels),\n",
    "                   nb_epoch=1)"
   ]
  },
  {
   "cell_type": "code",
   "execution_count": 13,
   "metadata": {
    "collapsed": false
   },
   "outputs": [
    {
     "data": {
      "text/plain": [
       "<matplotlib.legend.Legend at 0x11e753a90>"
      ]
     },
     "execution_count": 13,
     "metadata": {},
     "output_type": "execute_result"
    },
    {
     "data": {
      "image/png": "[encoded data removed]",
      "text/plain": [
       "<matplotlib.figure.Figure at 0x11e4521d0>"
      ]
     },
     "metadata": {},
     "output_type": "display_data"
    }
   ],
   "source": [
    "import matplotlib.pyplot as plt\n",
    "import seaborn as sns\n",
    "%matplotlib inline\n",
    "plt.plot(history.history['loss'])\n",
    "plt.plot(history.history['val_loss'])\n",
    "plt.title('model loss')\n",
    "plt.ylabel('loss')\n",
    "plt.xlabel('epoch')\n",
    "plt.legend(['train', 'validation'], loc='upper left')"
   ]
  },
  {
   "cell_type": "markdown",
   "metadata": {},
   "source": [
    "### Max Validation Accuracy = 0.67\n",
    "### Min Validation Loss = 1.39\n",
    "\n",
    "### Notes\n",
    "\n",
    "Overfitting is apparent after ~6 epochs, as the training loss decreases while the validation loss rises. Loss is slightly lower than the 1-CNN and 2-CNN networks, but minimum loss arrives in fewer epochs. Overfitting ramps up rapidly, will use 2-CNN for basis of combined model  "
   ]
  }
 ],
 "metadata": {
  "anaconda-cloud": {},
  "kernelspec": {
   "display_name": "Python [conda root]",
   "language": "python",
   "name": "conda-root-py"
  },
  "language_info": {
   "codemirror_mode": {
    "name": "ipython",
    "version": 2
   },
   "file_extension": ".py",
   "mimetype": "text/x-python",
   "name": "python",
   "nbconvert_exporter": "python",
   "pygments_lexer": "ipython2",
   "version": "2.7.12"
  }
 },
 "nbformat": 4,
 "nbformat_minor": 1
}
